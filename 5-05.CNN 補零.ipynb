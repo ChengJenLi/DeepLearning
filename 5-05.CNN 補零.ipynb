{
 "cells": [
  {
   "cell_type": "markdown",
   "metadata": {},
   "source": [
    "# CNN 補零"
   ]
  },
  {
   "cell_type": "code",
   "execution_count": 1,
   "metadata": {},
   "outputs": [],
   "source": [
    "# coding: utf-8"
   ]
  },
  {
   "cell_type": "markdown",
   "metadata": {},
   "source": [
    "## 載入Keras及其他函式庫"
   ]
  },
  {
   "cell_type": "code",
   "execution_count": 2,
   "metadata": {},
   "outputs": [
    {
     "name": "stderr",
     "output_type": "stream",
     "text": [
      "Using TensorFlow backend.\n"
     ]
    }
   ],
   "source": [
    "from keras.models import Sequential, Model\n",
    "from keras.layers import Conv2D\n",
    "from keras.utils import np_utils"
   ]
  },
  {
   "cell_type": "markdown",
   "metadata": {},
   "source": [
    "## 匯入顯示SVG必要的函數庫"
   ]
  },
  {
   "cell_type": "code",
   "execution_count": 3,
   "metadata": {},
   "outputs": [],
   "source": [
    "from IPython.display import SVG\n",
    "from keras.utils.vis_utils import model_to_dot"
   ]
  },
  {
   "cell_type": "markdown",
   "metadata": {},
   "source": [
    "## 製作CNN補零模型"
   ]
  },
  {
   "cell_type": "code",
   "execution_count": 5,
   "metadata": {},
   "outputs": [],
   "source": [
    "model = Sequential()\n",
    "model.add(Conv2D(filters=3, kernel_size=(3, 3), input_shape=(6, 6, 1), padding='same', name='Conv2D_1'))"
   ]
  },
  {
   "cell_type": "code",
   "execution_count": 6,
   "metadata": {},
   "outputs": [
    {
     "data": {
      "image/svg+xml": [
       "<svg height=\"126pt\" viewBox=\"0.00 0.00 293.60 126.00\" width=\"294pt\" xmlns=\"http://www.w3.org/2000/svg\" xmlns:xlink=\"http://www.w3.org/1999/xlink\">\n",
       "<g class=\"graph\" id=\"graph0\" transform=\"scale(1 1) rotate(0) translate(4 122)\">\n",
       "<title>G</title>\n",
       "<polygon fill=\"#ffffff\" points=\"-4,4 -4,-122 289.6035,-122 289.6035,4 -4,4\" stroke=\"transparent\"/>\n",
       "<!-- 140272626916488 -->\n",
       "<g class=\"node\" id=\"node1\">\n",
       "<title>140272626916488</title>\n",
       "<polygon fill=\"none\" points=\"0,-.5 0,-44.5 285.6035,-44.5 285.6035,-.5 0,-.5\" stroke=\"#000000\"/>\n",
       "<text fill=\"#000000\" font-family=\"Times,serif\" font-size=\"14.00\" text-anchor=\"middle\" x=\"66.1431\" y=\"-18.3\">Conv2D_1: Conv2D</text>\n",
       "<polyline fill=\"none\" points=\"132.2861,-.5 132.2861,-44.5 \" stroke=\"#000000\"/>\n",
       "<text fill=\"#000000\" font-family=\"Times,serif\" font-size=\"14.00\" text-anchor=\"middle\" x=\"160.1206\" y=\"-29.3\">input:</text>\n",
       "<polyline fill=\"none\" points=\"132.2861,-22.5 187.9551,-22.5 \" stroke=\"#000000\"/>\n",
       "<text fill=\"#000000\" font-family=\"Times,serif\" font-size=\"14.00\" text-anchor=\"middle\" x=\"160.1206\" y=\"-7.3\">output:</text>\n",
       "<polyline fill=\"none\" points=\"187.9551,-.5 187.9551,-44.5 \" stroke=\"#000000\"/>\n",
       "<text fill=\"#000000\" font-family=\"Times,serif\" font-size=\"14.00\" text-anchor=\"middle\" x=\"236.7793\" y=\"-29.3\">(None, 6, 6, 1)</text>\n",
       "<polyline fill=\"none\" points=\"187.9551,-22.5 285.6035,-22.5 \" stroke=\"#000000\"/>\n",
       "<text fill=\"#000000\" font-family=\"Times,serif\" font-size=\"14.00\" text-anchor=\"middle\" x=\"236.7793\" y=\"-7.3\">(None, 6, 6, 3)</text>\n",
       "</g>\n",
       "<!-- 140272626917160 -->\n",
       "<g class=\"node\" id=\"node2\">\n",
       "<title>140272626917160</title>\n",
       "<polygon fill=\"none\" points=\"82.3018,-81.5 82.3018,-117.5 203.3018,-117.5 203.3018,-81.5 82.3018,-81.5\" stroke=\"#000000\"/>\n",
       "<text fill=\"#000000\" font-family=\"Times,serif\" font-size=\"14.00\" text-anchor=\"middle\" x=\"142.8018\" y=\"-95.3\">140272626917160</text>\n",
       "</g>\n",
       "<!-- 140272626917160&#45;&gt;140272626916488 -->\n",
       "<g class=\"edge\" id=\"edge1\">\n",
       "<title>140272626917160-&gt;140272626916488</title>\n",
       "<path d=\"M142.8018,-81.2521C142.8018,-73.3888 142.8018,-63.9498 142.8018,-54.9612\" fill=\"none\" stroke=\"#000000\"/>\n",
       "<polygon fill=\"#000000\" points=\"146.3019,-54.7376 142.8018,-44.7377 139.3019,-54.7377 146.3019,-54.7376\" stroke=\"#000000\"/>\n",
       "</g>\n",
       "</g>\n",
       "</svg>"
      ],
      "text/plain": [
       "<IPython.core.display.SVG object>"
      ]
     },
     "execution_count": 6,
     "metadata": {},
     "output_type": "execute_result"
    }
   ],
   "source": [
    "## 以SVG格式顯示模型\n",
    "SVG(model_to_dot(model, show_shapes=True).create(prog='dot', format='svg'))"
   ]
  }
 ],
 "metadata": {
  "kernelspec": {
   "display_name": "Python 3",
   "language": "python",
   "name": "python3"
  },
  "language_info": {
   "codemirror_mode": {
    "name": "ipython",
    "version": 3
   },
   "file_extension": ".py",
   "mimetype": "text/x-python",
   "name": "python",
   "nbconvert_exporter": "python",
   "pygments_lexer": "ipython3",
   "version": "3.7.2"
  }
 },
 "nbformat": 4,
 "nbformat_minor": 2
}
