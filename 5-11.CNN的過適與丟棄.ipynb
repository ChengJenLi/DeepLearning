{
 "cells": [
  {
   "cell_type": "markdown",
   "metadata": {},
   "source": [
    "# CNN的過適與丟棄"
   ]
  },
  {
   "cell_type": "markdown",
   "metadata": {},
   "source": [
    "## 匯入Keras及其他函式庫"
   ]
  },
  {
   "cell_type": "code",
   "execution_count": 1,
   "metadata": {},
   "outputs": [
    {
     "name": "stderr",
     "output_type": "stream",
     "text": [
      "Using TensorFlow backend.\n"
     ]
    }
   ],
   "source": [
    "import keras\n",
    "from keras.models import Sequential, Model\n",
    "from keras.layers import Dense, Activation, Flatten, Conv2D, Dropout\n",
    "from keras.utils import np_utils\n",
    "from keras.optimizers import SGD"
   ]
  },
  {
   "cell_type": "markdown",
   "metadata": {},
   "source": [
    "## 匯入提早結束學習及 Callbacks 及 Numpy "
   ]
  },
  {
   "cell_type": "code",
   "execution_count": 2,
   "metadata": {},
   "outputs": [],
   "source": [
    "import keras.callbacks as callbacks\n",
    "import numpy as np"
   ]
  },
  {
   "cell_type": "markdown",
   "metadata": {},
   "source": [
    "## 匯入SVG表示函式庫"
   ]
  },
  {
   "cell_type": "code",
   "execution_count": 3,
   "metadata": {},
   "outputs": [],
   "source": [
    "from IPython.display import SVG\n",
    "from keras.utils.vis_utils import model_to_dot"
   ]
  },
  {
   "cell_type": "markdown",
   "metadata": {},
   "source": [
    "## 產生亂數作為測試資料"
   ]
  },
  {
   "cell_type": "code",
   "execution_count": 4,
   "metadata": {},
   "outputs": [],
   "source": [
    "x_train = np.random.random((100, 6, 6, 1))\n",
    "y_train = keras.utils.to_categorical(np.random.randint(10, size=(100, 1)), num_classes=10)\n",
    "x_test = np.random.random((20, 6, 6, 1))\n",
    "y_test = keras.utils.to_categorical(np.random.randint(10, size=(20, 1)), num_classes=10)"
   ]
  },
  {
   "cell_type": "markdown",
   "metadata": {},
   "source": [
    "## 增加丟棄並製作 CNN 模型"
   ]
  },
  {
   "cell_type": "code",
   "execution_count": 6,
   "metadata": {},
   "outputs": [],
   "source": [
    "model = Sequential()\n",
    "model.add(Conv2D(filters=3, kernel_size=(3, 3), input_shape=(6, 6, 1), name='Conv2D_1'))\n",
    "model.add(Dropout(rate=0.5, name='Dropout_1'))\n",
    "model.add(Flatten(name='Flatten_1'))\n",
    "model.add(Dense(units=10, activation='softmax', name='Dense_1'))"
   ]
  },
  {
   "cell_type": "markdown",
   "metadata": {},
   "source": [
    "## 輸出模型"
   ]
  },
  {
   "cell_type": "code",
   "execution_count": 7,
   "metadata": {},
   "outputs": [
    {
     "data": {
      "image/svg+xml": [
       "<svg height=\"369pt\" viewBox=\"0.00 0.00 293.60 369.00\" width=\"294pt\" xmlns=\"http://www.w3.org/2000/svg\" xmlns:xlink=\"http://www.w3.org/1999/xlink\">\n",
       "<g class=\"graph\" id=\"graph0\" transform=\"scale(1 1) rotate(0) translate(4 365)\">\n",
       "<title>G</title>\n",
       "<polygon fill=\"#ffffff\" points=\"-4,4 -4,-365 289.6035,-365 289.6035,4 -4,4\" stroke=\"transparent\"/>\n",
       "<!-- 140359673814040 -->\n",
       "<g class=\"node\" id=\"node1\">\n",
       "<title>140359673814040</title>\n",
       "<polygon fill=\"none\" points=\"0,-243.5 0,-287.5 285.6035,-287.5 285.6035,-243.5 0,-243.5\" stroke=\"#000000\"/>\n",
       "<text fill=\"#000000\" font-family=\"Times,serif\" font-size=\"14.00\" text-anchor=\"middle\" x=\"66.1431\" y=\"-261.3\">Conv2D_1: Conv2D</text>\n",
       "<polyline fill=\"none\" points=\"132.2861,-243.5 132.2861,-287.5 \" stroke=\"#000000\"/>\n",
       "<text fill=\"#000000\" font-family=\"Times,serif\" font-size=\"14.00\" text-anchor=\"middle\" x=\"160.1206\" y=\"-272.3\">input:</text>\n",
       "<polyline fill=\"none\" points=\"132.2861,-265.5 187.9551,-265.5 \" stroke=\"#000000\"/>\n",
       "<text fill=\"#000000\" font-family=\"Times,serif\" font-size=\"14.00\" text-anchor=\"middle\" x=\"160.1206\" y=\"-250.3\">output:</text>\n",
       "<polyline fill=\"none\" points=\"187.9551,-243.5 187.9551,-287.5 \" stroke=\"#000000\"/>\n",
       "<text fill=\"#000000\" font-family=\"Times,serif\" font-size=\"14.00\" text-anchor=\"middle\" x=\"236.7793\" y=\"-272.3\">(None, 6, 6, 1)</text>\n",
       "<polyline fill=\"none\" points=\"187.9551,-265.5 285.6035,-265.5 \" stroke=\"#000000\"/>\n",
       "<text fill=\"#000000\" font-family=\"Times,serif\" font-size=\"14.00\" text-anchor=\"middle\" x=\"236.7793\" y=\"-250.3\">(None, 4, 4, 3)</text>\n",
       "</g>\n",
       "<!-- 140359673814488 -->\n",
       "<g class=\"node\" id=\"node2\">\n",
       "<title>140359673814488</title>\n",
       "<polygon fill=\"none\" points=\".7861,-162.5 .7861,-206.5 284.8174,-206.5 284.8174,-162.5 .7861,-162.5\" stroke=\"#000000\"/>\n",
       "<text fill=\"#000000\" font-family=\"Times,serif\" font-size=\"14.00\" text-anchor=\"middle\" x=\"66.1431\" y=\"-180.3\">Dropout_1: Dropout</text>\n",
       "<polyline fill=\"none\" points=\"131.5,-162.5 131.5,-206.5 \" stroke=\"#000000\"/>\n",
       "<text fill=\"#000000\" font-family=\"Times,serif\" font-size=\"14.00\" text-anchor=\"middle\" x=\"159.3345\" y=\"-191.3\">input:</text>\n",
       "<polyline fill=\"none\" points=\"131.5,-184.5 187.1689,-184.5 \" stroke=\"#000000\"/>\n",
       "<text fill=\"#000000\" font-family=\"Times,serif\" font-size=\"14.00\" text-anchor=\"middle\" x=\"159.3345\" y=\"-169.3\">output:</text>\n",
       "<polyline fill=\"none\" points=\"187.1689,-162.5 187.1689,-206.5 \" stroke=\"#000000\"/>\n",
       "<text fill=\"#000000\" font-family=\"Times,serif\" font-size=\"14.00\" text-anchor=\"middle\" x=\"235.9932\" y=\"-191.3\">(None, 4, 4, 3)</text>\n",
       "<polyline fill=\"none\" points=\"187.1689,-184.5 284.8174,-184.5 \" stroke=\"#000000\"/>\n",
       "<text fill=\"#000000\" font-family=\"Times,serif\" font-size=\"14.00\" text-anchor=\"middle\" x=\"235.9932\" y=\"-169.3\">(None, 4, 4, 3)</text>\n",
       "</g>\n",
       "<!-- 140359673814040&#45;&gt;140359673814488 -->\n",
       "<g class=\"edge\" id=\"edge2\">\n",
       "<title>140359673814040-&gt;140359673814488</title>\n",
       "<path d=\"M142.8018,-243.3664C142.8018,-235.1516 142.8018,-225.6579 142.8018,-216.7252\" fill=\"none\" stroke=\"#000000\"/>\n",
       "<polygon fill=\"#000000\" points=\"146.3019,-216.6068 142.8018,-206.6068 139.3019,-216.6069 146.3019,-216.6068\" stroke=\"#000000\"/>\n",
       "</g>\n",
       "<!-- 140359673911000 -->\n",
       "<g class=\"node\" id=\"node3\">\n",
       "<title>140359673911000</title>\n",
       "<polygon fill=\"none\" points=\"8.5654,-81.5 8.5654,-125.5 277.0381,-125.5 277.0381,-81.5 8.5654,-81.5\" stroke=\"#000000\"/>\n",
       "<text fill=\"#000000\" font-family=\"Times,serif\" font-size=\"14.00\" text-anchor=\"middle\" x=\"66.1431\" y=\"-99.3\">Flatten_1: Flatten</text>\n",
       "<polyline fill=\"none\" points=\"123.7207,-81.5 123.7207,-125.5 \" stroke=\"#000000\"/>\n",
       "<text fill=\"#000000\" font-family=\"Times,serif\" font-size=\"14.00\" text-anchor=\"middle\" x=\"151.5552\" y=\"-110.3\">input:</text>\n",
       "<polyline fill=\"none\" points=\"123.7207,-103.5 179.3896,-103.5 \" stroke=\"#000000\"/>\n",
       "<text fill=\"#000000\" font-family=\"Times,serif\" font-size=\"14.00\" text-anchor=\"middle\" x=\"151.5552\" y=\"-88.3\">output:</text>\n",
       "<polyline fill=\"none\" points=\"179.3896,-81.5 179.3896,-125.5 \" stroke=\"#000000\"/>\n",
       "<text fill=\"#000000\" font-family=\"Times,serif\" font-size=\"14.00\" text-anchor=\"middle\" x=\"228.2139\" y=\"-110.3\">(None, 4, 4, 3)</text>\n",
       "<polyline fill=\"none\" points=\"179.3896,-103.5 277.0381,-103.5 \" stroke=\"#000000\"/>\n",
       "<text fill=\"#000000\" font-family=\"Times,serif\" font-size=\"14.00\" text-anchor=\"middle\" x=\"228.2139\" y=\"-88.3\">(None, 48)</text>\n",
       "</g>\n",
       "<!-- 140359673814488&#45;&gt;140359673911000 -->\n",
       "<g class=\"edge\" id=\"edge3\">\n",
       "<title>140359673814488-&gt;140359673911000</title>\n",
       "<path d=\"M142.8018,-162.3664C142.8018,-154.1516 142.8018,-144.6579 142.8018,-135.7252\" fill=\"none\" stroke=\"#000000\"/>\n",
       "<polygon fill=\"#000000\" points=\"146.3019,-135.6068 142.8018,-125.6068 139.3019,-135.6069 146.3019,-135.6068\" stroke=\"#000000\"/>\n",
       "</g>\n",
       "<!-- 140359673913128 -->\n",
       "<g class=\"node\" id=\"node4\">\n",
       "<title>140359673913128</title>\n",
       "<polygon fill=\"none\" points=\"22.9619,-.5 22.9619,-44.5 262.6416,-44.5 262.6416,-.5 22.9619,-.5\" stroke=\"#000000\"/>\n",
       "<text fill=\"#000000\" font-family=\"Times,serif\" font-size=\"14.00\" text-anchor=\"middle\" x=\"76.6431\" y=\"-18.3\">Dense_1: Dense</text>\n",
       "<polyline fill=\"none\" points=\"130.3242,-.5 130.3242,-44.5 \" stroke=\"#000000\"/>\n",
       "<text fill=\"#000000\" font-family=\"Times,serif\" font-size=\"14.00\" text-anchor=\"middle\" x=\"158.1587\" y=\"-29.3\">input:</text>\n",
       "<polyline fill=\"none\" points=\"130.3242,-22.5 185.9932,-22.5 \" stroke=\"#000000\"/>\n",
       "<text fill=\"#000000\" font-family=\"Times,serif\" font-size=\"14.00\" text-anchor=\"middle\" x=\"158.1587\" y=\"-7.3\">output:</text>\n",
       "<polyline fill=\"none\" points=\"185.9932,-.5 185.9932,-44.5 \" stroke=\"#000000\"/>\n",
       "<text fill=\"#000000\" font-family=\"Times,serif\" font-size=\"14.00\" text-anchor=\"middle\" x=\"224.3174\" y=\"-29.3\">(None, 48)</text>\n",
       "<polyline fill=\"none\" points=\"185.9932,-22.5 262.6416,-22.5 \" stroke=\"#000000\"/>\n",
       "<text fill=\"#000000\" font-family=\"Times,serif\" font-size=\"14.00\" text-anchor=\"middle\" x=\"224.3174\" y=\"-7.3\">(None, 10)</text>\n",
       "</g>\n",
       "<!-- 140359673911000&#45;&gt;140359673913128 -->\n",
       "<g class=\"edge\" id=\"edge4\">\n",
       "<title>140359673911000-&gt;140359673913128</title>\n",
       "<path d=\"M142.8018,-81.3664C142.8018,-73.1516 142.8018,-63.6579 142.8018,-54.7252\" fill=\"none\" stroke=\"#000000\"/>\n",
       "<polygon fill=\"#000000\" points=\"146.3019,-54.6068 142.8018,-44.6068 139.3019,-54.6069 146.3019,-54.6068\" stroke=\"#000000\"/>\n",
       "</g>\n",
       "<!-- 140359673910944 -->\n",
       "<g class=\"node\" id=\"node5\">\n",
       "<title>140359673910944</title>\n",
       "<polygon fill=\"none\" points=\"82.3018,-324.5 82.3018,-360.5 203.3018,-360.5 203.3018,-324.5 82.3018,-324.5\" stroke=\"#000000\"/>\n",
       "<text fill=\"#000000\" font-family=\"Times,serif\" font-size=\"14.00\" text-anchor=\"middle\" x=\"142.8018\" y=\"-338.3\">140359673910944</text>\n",
       "</g>\n",
       "<!-- 140359673910944&#45;&gt;140359673814040 -->\n",
       "<g class=\"edge\" id=\"edge1\">\n",
       "<title>140359673910944-&gt;140359673814040</title>\n",
       "<path d=\"M142.8018,-324.2521C142.8018,-316.3888 142.8018,-306.9498 142.8018,-297.9612\" fill=\"none\" stroke=\"#000000\"/>\n",
       "<polygon fill=\"#000000\" points=\"146.3019,-297.7376 142.8018,-287.7377 139.3019,-297.7377 146.3019,-297.7376\" stroke=\"#000000\"/>\n",
       "</g>\n",
       "</g>\n",
       "</svg>"
      ],
      "text/plain": [
       "<IPython.core.display.SVG object>"
      ]
     },
     "execution_count": 7,
     "metadata": {},
     "output_type": "execute_result"
    }
   ],
   "source": [
    "SVG(model_to_dot(model, show_shapes=True).create(prog='dot', format='svg'))"
   ]
  },
  {
   "cell_type": "markdown",
   "metadata": {},
   "source": [
    "## 提早學習結束"
   ]
  },
  {
   "cell_type": "code",
   "execution_count": 8,
   "metadata": {},
   "outputs": [],
   "source": [
    "earlyStopping = callbacks.EarlyStopping(monitor='val_loss', patience=5)"
   ]
  },
  {
   "cell_type": "markdown",
   "metadata": {},
   "source": [
    "## 編譯模型"
   ]
  },
  {
   "cell_type": "code",
   "execution_count": 10,
   "metadata": {},
   "outputs": [
    {
     "name": "stdout",
     "output_type": "stream",
     "text": [
      "Train on 80 samples, validate on 20 samples\n",
      "Epoch 1/10\n",
      "80/80 [==============================] - 0s 2ms/step - loss: 0.0933 - val_loss: 0.0940\n",
      "Epoch 2/10\n",
      "80/80 [==============================] - 0s 56us/step - loss: 0.0948 - val_loss: 0.0940\n",
      "Epoch 3/10\n",
      "80/80 [==============================] - 0s 52us/step - loss: 0.0947 - val_loss: 0.0940\n",
      "Epoch 4/10\n",
      "80/80 [==============================] - 0s 53us/step - loss: 0.0936 - val_loss: 0.0940\n",
      "Epoch 5/10\n",
      "80/80 [==============================] - 0s 51us/step - loss: 0.0927 - val_loss: 0.0940\n",
      "Epoch 6/10\n",
      "80/80 [==============================] - 0s 53us/step - loss: 0.0944 - val_loss: 0.0940\n",
      "Epoch 7/10\n",
      "80/80 [==============================] - 0s 53us/step - loss: 0.0940 - val_loss: 0.0940\n",
      "Epoch 8/10\n",
      "80/80 [==============================] - 0s 57us/step - loss: 0.0920 - val_loss: 0.0940\n",
      "Epoch 9/10\n",
      "80/80 [==============================] - 0s 62us/step - loss: 0.0929 - val_loss: 0.0940\n",
      "Epoch 10/10\n",
      "80/80 [==============================] - 0s 52us/step - loss: 0.0933 - val_loss: 0.0940\n"
     ]
    },
    {
     "data": {
      "text/plain": [
       "<keras.callbacks.History at 0x7fa7f923add8>"
      ]
     },
     "execution_count": 10,
     "metadata": {},
     "output_type": "execute_result"
    }
   ],
   "source": [
    "model.compile(loss='mean_squared_error', optimizer='sgd')\n",
    "model.fit(x_train, y_train, batch_size=32, epochs=10, callbacks=[earlyStopping], validation_split=0.2)"
   ]
  }
 ],
 "metadata": {
  "kernelspec": {
   "display_name": "Python 3",
   "language": "python",
   "name": "python3"
  },
  "language_info": {
   "codemirror_mode": {
    "name": "ipython",
    "version": 3
   },
   "file_extension": ".py",
   "mimetype": "text/x-python",
   "name": "python",
   "nbconvert_exporter": "python",
   "pygments_lexer": "ipython3",
   "version": "3.7.2"
  }
 },
 "nbformat": 4,
 "nbformat_minor": 2
}
