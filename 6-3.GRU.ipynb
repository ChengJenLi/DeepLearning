{
 "cells": [
  {
   "cell_type": "markdown",
   "metadata": {},
   "source": [
    "# RNN Model 3 - GRU"
   ]
  },
  {
   "cell_type": "code",
   "execution_count": 1,
   "metadata": {},
   "outputs": [],
   "source": [
    "# coding: utf-8"
   ]
  },
  {
   "cell_type": "markdown",
   "metadata": {},
   "source": [
    "### 匯入Keras，SVG等函式庫"
   ]
  },
  {
   "cell_type": "code",
   "execution_count": 2,
   "metadata": {},
   "outputs": [
    {
     "name": "stderr",
     "output_type": "stream",
     "text": [
      "Using TensorFlow backend.\n"
     ]
    }
   ],
   "source": [
    "from keras.models import Model\n",
    "from keras.layers import Input, GRU\n",
    "\n",
    "\n",
    "from IPython.display import SVG\n",
    "from keras.utils.vis_utils import model_to_dot"
   ]
  },
  {
   "cell_type": "markdown",
   "metadata": {},
   "source": [
    "### 參數定義 //單位//步數 //維度//資料形狀"
   ]
  },
  {
   "cell_type": "code",
   "execution_count": 3,
   "metadata": {},
   "outputs": [],
   "source": [
    "units = 10\n",
    "time_steps = 5\n",
    "input_dim = 15\n",
    "input_shape = (time_steps, input_dim)"
   ]
  },
  {
   "cell_type": "markdown",
   "metadata": {},
   "source": [
    "## 製作RNN模型"
   ]
  },
  {
   "cell_type": "code",
   "execution_count": 6,
   "metadata": {},
   "outputs": [],
   "source": [
    "x = Input(shape=input_shape, name='Input')\n",
    "y = GRU(units=units, activation='sigmoid', name='GRU_1')(x)\n",
    "model = Model(inputs=[x], outputs=[y])"
   ]
  },
  {
   "cell_type": "markdown",
   "metadata": {},
   "source": [
    "### 以SVG形式顯示模型"
   ]
  },
  {
   "cell_type": "code",
   "execution_count": 7,
   "metadata": {},
   "outputs": [
    {
     "data": {
      "image/svg+xml": [
       "<svg height=\"134pt\" viewBox=\"0.00 0.00 269.45 134.00\" width=\"269pt\" xmlns=\"http://www.w3.org/2000/svg\" xmlns:xlink=\"http://www.w3.org/1999/xlink\">\n",
       "<g class=\"graph\" id=\"graph0\" transform=\"scale(1 1) rotate(0) translate(4 130)\">\n",
       "<title>G</title>\n",
       "<polygon fill=\"#ffffff\" points=\"-4,4 -4,-130 265.4521,-130 265.4521,4 -4,4\" stroke=\"transparent\"/>\n",
       "<!-- 140371097987896 -->\n",
       "<g class=\"node\" id=\"node1\">\n",
       "<title>140371097987896</title>\n",
       "<polygon fill=\"none\" points=\"0,-81.5 0,-125.5 261.4521,-125.5 261.4521,-81.5 0,-81.5\" stroke=\"#000000\"/>\n",
       "<text fill=\"#000000\" font-family=\"Times,serif\" font-size=\"14.00\" text-anchor=\"middle\" x=\"57.5674\" y=\"-99.3\">Input: InputLayer</text>\n",
       "<polyline fill=\"none\" points=\"115.1348,-81.5 115.1348,-125.5 \" stroke=\"#000000\"/>\n",
       "<text fill=\"#000000\" font-family=\"Times,serif\" font-size=\"14.00\" text-anchor=\"middle\" x=\"142.9692\" y=\"-110.3\">input:</text>\n",
       "<polyline fill=\"none\" points=\"115.1348,-103.5 170.8037,-103.5 \" stroke=\"#000000\"/>\n",
       "<text fill=\"#000000\" font-family=\"Times,serif\" font-size=\"14.00\" text-anchor=\"middle\" x=\"142.9692\" y=\"-88.3\">output:</text>\n",
       "<polyline fill=\"none\" points=\"170.8037,-81.5 170.8037,-125.5 \" stroke=\"#000000\"/>\n",
       "<text fill=\"#000000\" font-family=\"Times,serif\" font-size=\"14.00\" text-anchor=\"middle\" x=\"216.1279\" y=\"-110.3\">(None, 5, 15)</text>\n",
       "<polyline fill=\"none\" points=\"170.8037,-103.5 261.4521,-103.5 \" stroke=\"#000000\"/>\n",
       "<text fill=\"#000000\" font-family=\"Times,serif\" font-size=\"14.00\" text-anchor=\"middle\" x=\"216.1279\" y=\"-88.3\">(None, 5, 15)</text>\n",
       "</g>\n",
       "<!-- 140371097988176 -->\n",
       "<g class=\"node\" id=\"node2\">\n",
       "<title>140371097988176</title>\n",
       "<polygon fill=\"none\" points=\"9.314,-.5 9.314,-44.5 252.1382,-44.5 252.1382,-.5 9.314,-.5\" stroke=\"#000000\"/>\n",
       "<text fill=\"#000000\" font-family=\"Times,serif\" font-size=\"14.00\" text-anchor=\"middle\" x=\"57.5674\" y=\"-18.3\">GRU_1: GRU</text>\n",
       "<polyline fill=\"none\" points=\"105.8208,-.5 105.8208,-44.5 \" stroke=\"#000000\"/>\n",
       "<text fill=\"#000000\" font-family=\"Times,serif\" font-size=\"14.00\" text-anchor=\"middle\" x=\"133.6553\" y=\"-29.3\">input:</text>\n",
       "<polyline fill=\"none\" points=\"105.8208,-22.5 161.4897,-22.5 \" stroke=\"#000000\"/>\n",
       "<text fill=\"#000000\" font-family=\"Times,serif\" font-size=\"14.00\" text-anchor=\"middle\" x=\"133.6553\" y=\"-7.3\">output:</text>\n",
       "<polyline fill=\"none\" points=\"161.4897,-.5 161.4897,-44.5 \" stroke=\"#000000\"/>\n",
       "<text fill=\"#000000\" font-family=\"Times,serif\" font-size=\"14.00\" text-anchor=\"middle\" x=\"206.814\" y=\"-29.3\">(None, 5, 15)</text>\n",
       "<polyline fill=\"none\" points=\"161.4897,-22.5 252.1382,-22.5 \" stroke=\"#000000\"/>\n",
       "<text fill=\"#000000\" font-family=\"Times,serif\" font-size=\"14.00\" text-anchor=\"middle\" x=\"206.814\" y=\"-7.3\">(None, 10)</text>\n",
       "</g>\n",
       "<!-- 140371097987896&#45;&gt;140371097988176 -->\n",
       "<g class=\"edge\" id=\"edge1\">\n",
       "<title>140371097987896-&gt;140371097988176</title>\n",
       "<path d=\"M130.7261,-81.3664C130.7261,-73.1516 130.7261,-63.6579 130.7261,-54.7252\" fill=\"none\" stroke=\"#000000\"/>\n",
       "<polygon fill=\"#000000\" points=\"134.2262,-54.6068 130.7261,-44.6068 127.2262,-54.6069 134.2262,-54.6068\" stroke=\"#000000\"/>\n",
       "</g>\n",
       "</g>\n",
       "</svg>"
      ],
      "text/plain": [
       "<IPython.core.display.SVG object>"
      ]
     },
     "execution_count": 7,
     "metadata": {},
     "output_type": "execute_result"
    }
   ],
   "source": [
    "SVG(model_to_dot(model, show_shapes=True).create(prog='dot', format='svg'))"
   ]
  },
  {
   "cell_type": "markdown",
   "metadata": {},
   "source": [
    "## 製作RNN模型，輸出序列"
   ]
  },
  {
   "cell_type": "code",
   "execution_count": 8,
   "metadata": {},
   "outputs": [],
   "source": [
    "y = GRU(units=units, activation='sigmoid', return_sequences=True, name='GRU_1')(x)\n",
    "model = Model(inputs=[x], outputs=[y])"
   ]
  },
  {
   "cell_type": "markdown",
   "metadata": {},
   "source": [
    "### 以SVG形式顯示模型"
   ]
  },
  {
   "cell_type": "code",
   "execution_count": 9,
   "metadata": {},
   "outputs": [
    {
     "data": {
      "image/svg+xml": [
       "<svg height=\"134pt\" viewBox=\"0.00 0.00 269.45 134.00\" width=\"269pt\" xmlns=\"http://www.w3.org/2000/svg\" xmlns:xlink=\"http://www.w3.org/1999/xlink\">\n",
       "<g class=\"graph\" id=\"graph0\" transform=\"scale(1 1) rotate(0) translate(4 130)\">\n",
       "<title>G</title>\n",
       "<polygon fill=\"#ffffff\" points=\"-4,4 -4,-130 265.4521,-130 265.4521,4 -4,4\" stroke=\"transparent\"/>\n",
       "<!-- 140371097987896 -->\n",
       "<g class=\"node\" id=\"node1\">\n",
       "<title>140371097987896</title>\n",
       "<polygon fill=\"none\" points=\"0,-81.5 0,-125.5 261.4521,-125.5 261.4521,-81.5 0,-81.5\" stroke=\"#000000\"/>\n",
       "<text fill=\"#000000\" font-family=\"Times,serif\" font-size=\"14.00\" text-anchor=\"middle\" x=\"57.5674\" y=\"-99.3\">Input: InputLayer</text>\n",
       "<polyline fill=\"none\" points=\"115.1348,-81.5 115.1348,-125.5 \" stroke=\"#000000\"/>\n",
       "<text fill=\"#000000\" font-family=\"Times,serif\" font-size=\"14.00\" text-anchor=\"middle\" x=\"142.9692\" y=\"-110.3\">input:</text>\n",
       "<polyline fill=\"none\" points=\"115.1348,-103.5 170.8037,-103.5 \" stroke=\"#000000\"/>\n",
       "<text fill=\"#000000\" font-family=\"Times,serif\" font-size=\"14.00\" text-anchor=\"middle\" x=\"142.9692\" y=\"-88.3\">output:</text>\n",
       "<polyline fill=\"none\" points=\"170.8037,-81.5 170.8037,-125.5 \" stroke=\"#000000\"/>\n",
       "<text fill=\"#000000\" font-family=\"Times,serif\" font-size=\"14.00\" text-anchor=\"middle\" x=\"216.1279\" y=\"-110.3\">(None, 5, 15)</text>\n",
       "<polyline fill=\"none\" points=\"170.8037,-103.5 261.4521,-103.5 \" stroke=\"#000000\"/>\n",
       "<text fill=\"#000000\" font-family=\"Times,serif\" font-size=\"14.00\" text-anchor=\"middle\" x=\"216.1279\" y=\"-88.3\">(None, 5, 15)</text>\n",
       "</g>\n",
       "<!-- 140370818185648 -->\n",
       "<g class=\"node\" id=\"node2\">\n",
       "<title>140370818185648</title>\n",
       "<polygon fill=\"none\" points=\"9.314,-.5 9.314,-44.5 252.1382,-44.5 252.1382,-.5 9.314,-.5\" stroke=\"#000000\"/>\n",
       "<text fill=\"#000000\" font-family=\"Times,serif\" font-size=\"14.00\" text-anchor=\"middle\" x=\"57.5674\" y=\"-18.3\">GRU_1: GRU</text>\n",
       "<polyline fill=\"none\" points=\"105.8208,-.5 105.8208,-44.5 \" stroke=\"#000000\"/>\n",
       "<text fill=\"#000000\" font-family=\"Times,serif\" font-size=\"14.00\" text-anchor=\"middle\" x=\"133.6553\" y=\"-29.3\">input:</text>\n",
       "<polyline fill=\"none\" points=\"105.8208,-22.5 161.4897,-22.5 \" stroke=\"#000000\"/>\n",
       "<text fill=\"#000000\" font-family=\"Times,serif\" font-size=\"14.00\" text-anchor=\"middle\" x=\"133.6553\" y=\"-7.3\">output:</text>\n",
       "<polyline fill=\"none\" points=\"161.4897,-.5 161.4897,-44.5 \" stroke=\"#000000\"/>\n",
       "<text fill=\"#000000\" font-family=\"Times,serif\" font-size=\"14.00\" text-anchor=\"middle\" x=\"206.814\" y=\"-29.3\">(None, 5, 15)</text>\n",
       "<polyline fill=\"none\" points=\"161.4897,-22.5 252.1382,-22.5 \" stroke=\"#000000\"/>\n",
       "<text fill=\"#000000\" font-family=\"Times,serif\" font-size=\"14.00\" text-anchor=\"middle\" x=\"206.814\" y=\"-7.3\">(None, 5, 10)</text>\n",
       "</g>\n",
       "<!-- 140371097987896&#45;&gt;140370818185648 -->\n",
       "<g class=\"edge\" id=\"edge1\">\n",
       "<title>140371097987896-&gt;140370818185648</title>\n",
       "<path d=\"M130.7261,-81.3664C130.7261,-73.1516 130.7261,-63.6579 130.7261,-54.7252\" fill=\"none\" stroke=\"#000000\"/>\n",
       "<polygon fill=\"#000000\" points=\"134.2262,-54.6068 130.7261,-44.6068 127.2262,-54.6069 134.2262,-54.6068\" stroke=\"#000000\"/>\n",
       "</g>\n",
       "</g>\n",
       "</svg>"
      ],
      "text/plain": [
       "<IPython.core.display.SVG object>"
      ]
     },
     "execution_count": 9,
     "metadata": {},
     "output_type": "execute_result"
    }
   ],
   "source": [
    "SVG(model_to_dot(model, show_shapes=True).create(prog='dot', format='svg'))"
   ]
  },
  {
   "cell_type": "markdown",
   "metadata": {},
   "source": [
    "## 製作RNN模型，輸出內部狀態"
   ]
  },
  {
   "cell_type": "code",
   "execution_count": 10,
   "metadata": {},
   "outputs": [],
   "source": [
    "y, state = GRU(units=units, activation='sigmoid', return_state=True, name='GRU_1')(x)\n",
    "model = Model(inputs=[x], outputs=[y])"
   ]
  },
  {
   "cell_type": "markdown",
   "metadata": {},
   "source": [
    "### 以SVG形式顯示模型"
   ]
  },
  {
   "cell_type": "code",
   "execution_count": 11,
   "metadata": {},
   "outputs": [
    {
     "data": {
      "image/svg+xml": [
       "<svg height=\"134pt\" viewBox=\"0.00 0.00 313.80 134.00\" width=\"314pt\" xmlns=\"http://www.w3.org/2000/svg\" xmlns:xlink=\"http://www.w3.org/1999/xlink\">\n",
       "<g class=\"graph\" id=\"graph0\" transform=\"scale(1 1) rotate(0) translate(4 130)\">\n",
       "<title>G</title>\n",
       "<polygon fill=\"#ffffff\" points=\"-4,4 -4,-130 309.7969,-130 309.7969,4 -4,4\" stroke=\"transparent\"/>\n",
       "<!-- 140371097987896 -->\n",
       "<g class=\"node\" id=\"node1\">\n",
       "<title>140371097987896</title>\n",
       "<polygon fill=\"none\" points=\"22.1724,-81.5 22.1724,-125.5 283.6245,-125.5 283.6245,-81.5 22.1724,-81.5\" stroke=\"#000000\"/>\n",
       "<text fill=\"#000000\" font-family=\"Times,serif\" font-size=\"14.00\" text-anchor=\"middle\" x=\"79.7397\" y=\"-99.3\">Input: InputLayer</text>\n",
       "<polyline fill=\"none\" points=\"137.3071,-81.5 137.3071,-125.5 \" stroke=\"#000000\"/>\n",
       "<text fill=\"#000000\" font-family=\"Times,serif\" font-size=\"14.00\" text-anchor=\"middle\" x=\"165.1416\" y=\"-110.3\">input:</text>\n",
       "<polyline fill=\"none\" points=\"137.3071,-103.5 192.9761,-103.5 \" stroke=\"#000000\"/>\n",
       "<text fill=\"#000000\" font-family=\"Times,serif\" font-size=\"14.00\" text-anchor=\"middle\" x=\"165.1416\" y=\"-88.3\">output:</text>\n",
       "<polyline fill=\"none\" points=\"192.9761,-81.5 192.9761,-125.5 \" stroke=\"#000000\"/>\n",
       "<text fill=\"#000000\" font-family=\"Times,serif\" font-size=\"14.00\" text-anchor=\"middle\" x=\"238.3003\" y=\"-110.3\">(None, 5, 15)</text>\n",
       "<polyline fill=\"none\" points=\"192.9761,-103.5 283.6245,-103.5 \" stroke=\"#000000\"/>\n",
       "<text fill=\"#000000\" font-family=\"Times,serif\" font-size=\"14.00\" text-anchor=\"middle\" x=\"238.3003\" y=\"-88.3\">(None, 5, 15)</text>\n",
       "</g>\n",
       "<!-- 140371098840312 -->\n",
       "<g class=\"node\" id=\"node2\">\n",
       "<title>140371098840312</title>\n",
       "<polygon fill=\"none\" points=\"0,-.5 0,-44.5 305.7969,-44.5 305.7969,-.5 0,-.5\" stroke=\"#000000\"/>\n",
       "<text fill=\"#000000\" font-family=\"Times,serif\" font-size=\"14.00\" text-anchor=\"middle\" x=\"48.2534\" y=\"-18.3\">GRU_1: GRU</text>\n",
       "<polyline fill=\"none\" points=\"96.5068,-.5 96.5068,-44.5 \" stroke=\"#000000\"/>\n",
       "<text fill=\"#000000\" font-family=\"Times,serif\" font-size=\"14.00\" text-anchor=\"middle\" x=\"124.3413\" y=\"-29.3\">input:</text>\n",
       "<polyline fill=\"none\" points=\"96.5068,-22.5 152.1758,-22.5 \" stroke=\"#000000\"/>\n",
       "<text fill=\"#000000\" font-family=\"Times,serif\" font-size=\"14.00\" text-anchor=\"middle\" x=\"124.3413\" y=\"-7.3\">output:</text>\n",
       "<polyline fill=\"none\" points=\"152.1758,-.5 152.1758,-44.5 \" stroke=\"#000000\"/>\n",
       "<text fill=\"#000000\" font-family=\"Times,serif\" font-size=\"14.00\" text-anchor=\"middle\" x=\"228.5\" y=\"-29.3\">(None, 5, 15)</text>\n",
       "<polyline fill=\"none\" points=\"152.1758,-22.5 305.7969,-22.5 \" stroke=\"#000000\"/>\n",
       "<text fill=\"#000000\" font-family=\"Times,serif\" font-size=\"14.00\" text-anchor=\"middle\" x=\"228.9863\" y=\"-7.3\">[(None, 10), (None, 10)]</text>\n",
       "</g>\n",
       "<!-- 140371097987896&#45;&gt;140371098840312 -->\n",
       "<g class=\"edge\" id=\"edge1\">\n",
       "<title>140371097987896-&gt;140371098840312</title>\n",
       "<path d=\"M152.8984,-81.3664C152.8984,-73.1516 152.8984,-63.6579 152.8984,-54.7252\" fill=\"none\" stroke=\"#000000\"/>\n",
       "<polygon fill=\"#000000\" points=\"156.3985,-54.6068 152.8984,-44.6068 149.3985,-54.6069 156.3985,-54.6068\" stroke=\"#000000\"/>\n",
       "</g>\n",
       "</g>\n",
       "</svg>"
      ],
      "text/plain": [
       "<IPython.core.display.SVG object>"
      ]
     },
     "execution_count": 11,
     "metadata": {},
     "output_type": "execute_result"
    }
   ],
   "source": [
    "SVG(model_to_dot(model, show_shapes=True).create(prog='dot', format='svg'))"
   ]
  }
 ],
 "metadata": {
  "kernelspec": {
   "display_name": "Python 3",
   "language": "python",
   "name": "python3"
  },
  "language_info": {
   "codemirror_mode": {
    "name": "ipython",
    "version": 3
   },
   "file_extension": ".py",
   "mimetype": "text/x-python",
   "name": "python",
   "nbconvert_exporter": "python",
   "pygments_lexer": "ipython3",
   "version": "3.7.2"
  }
 },
 "nbformat": 4,
 "nbformat_minor": 2
}
