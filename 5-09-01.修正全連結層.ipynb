{
 "cells": [
  {
   "cell_type": "markdown",
   "metadata": {},
   "source": [
    "# Flatten & Dense"
   ]
  },
  {
   "cell_type": "code",
   "execution_count": 1,
   "metadata": {},
   "outputs": [],
   "source": [
    "# coding: utf-8"
   ]
  },
  {
   "cell_type": "markdown",
   "metadata": {},
   "source": [
    "## 匯入 Keras 與其他函式庫"
   ]
  },
  {
   "cell_type": "code",
   "execution_count": 2,
   "metadata": {},
   "outputs": [
    {
     "name": "stderr",
     "output_type": "stream",
     "text": [
      "Using TensorFlow backend.\n"
     ]
    }
   ],
   "source": [
    "from keras.models import Sequential, Model\n",
    "from keras.layers import Dense, Activation, Flatten, Conv2D\n",
    "from keras.utils import np_utils"
   ]
  },
  {
   "cell_type": "markdown",
   "metadata": {},
   "source": [
    "## 匯入顯示SVG需要的函式庫"
   ]
  },
  {
   "cell_type": "code",
   "execution_count": 3,
   "metadata": {},
   "outputs": [],
   "source": [
    "from IPython.display import SVG\n",
    "from keras.utils.vis_utils import model_to_dot"
   ]
  },
  {
   "cell_type": "markdown",
   "metadata": {},
   "source": [
    "# 將卷積神經網路輸出平展，全連結層，給予全連結層"
   ]
  },
  {
   "cell_type": "code",
   "execution_count": 5,
   "metadata": {},
   "outputs": [],
   "source": [
    "model = Sequential()\n",
    "model.add(Conv2D(filters=3, kernel_size=(3, 3), input_shape=(6, 6, 1), padding='same', name='Conv2D_1'))\n",
    "model.add(Flatten(name='Flatten_1'))\n",
    "model.add(Dense(units=1, activation='sigmoid', name='Dense_1'))"
   ]
  },
  {
   "cell_type": "markdown",
   "metadata": {},
   "source": [
    "## 以SVG格式顯示模型"
   ]
  },
  {
   "cell_type": "code",
   "execution_count": 6,
   "metadata": {},
   "outputs": [
    {
     "data": {
      "image/svg+xml": [
       "<svg height=\"288pt\" viewBox=\"0.00 0.00 293.60 288.00\" width=\"294pt\" xmlns=\"http://www.w3.org/2000/svg\" xmlns:xlink=\"http://www.w3.org/1999/xlink\">\n",
       "<g class=\"graph\" id=\"graph0\" transform=\"scale(1 1) rotate(0) translate(4 284)\">\n",
       "<title>G</title>\n",
       "<polygon fill=\"#ffffff\" points=\"-4,4 -4,-284 289.6035,-284 289.6035,4 -4,4\" stroke=\"transparent\"/>\n",
       "<!-- 140387450109904 -->\n",
       "<g class=\"node\" id=\"node1\">\n",
       "<title>140387450109904</title>\n",
       "<polygon fill=\"none\" points=\"0,-162.5 0,-206.5 285.6035,-206.5 285.6035,-162.5 0,-162.5\" stroke=\"#000000\"/>\n",
       "<text fill=\"#000000\" font-family=\"Times,serif\" font-size=\"14.00\" text-anchor=\"middle\" x=\"66.1431\" y=\"-180.3\">Conv2D_1: Conv2D</text>\n",
       "<polyline fill=\"none\" points=\"132.2861,-162.5 132.2861,-206.5 \" stroke=\"#000000\"/>\n",
       "<text fill=\"#000000\" font-family=\"Times,serif\" font-size=\"14.00\" text-anchor=\"middle\" x=\"160.1206\" y=\"-191.3\">input:</text>\n",
       "<polyline fill=\"none\" points=\"132.2861,-184.5 187.9551,-184.5 \" stroke=\"#000000\"/>\n",
       "<text fill=\"#000000\" font-family=\"Times,serif\" font-size=\"14.00\" text-anchor=\"middle\" x=\"160.1206\" y=\"-169.3\">output:</text>\n",
       "<polyline fill=\"none\" points=\"187.9551,-162.5 187.9551,-206.5 \" stroke=\"#000000\"/>\n",
       "<text fill=\"#000000\" font-family=\"Times,serif\" font-size=\"14.00\" text-anchor=\"middle\" x=\"236.7793\" y=\"-191.3\">(None, 6, 6, 1)</text>\n",
       "<polyline fill=\"none\" points=\"187.9551,-184.5 285.6035,-184.5 \" stroke=\"#000000\"/>\n",
       "<text fill=\"#000000\" font-family=\"Times,serif\" font-size=\"14.00\" text-anchor=\"middle\" x=\"236.7793\" y=\"-169.3\">(None, 6, 6, 3)</text>\n",
       "</g>\n",
       "<!-- 140387991708560 -->\n",
       "<g class=\"node\" id=\"node2\">\n",
       "<title>140387991708560</title>\n",
       "<polygon fill=\"none\" points=\"8.5654,-81.5 8.5654,-125.5 277.0381,-125.5 277.0381,-81.5 8.5654,-81.5\" stroke=\"#000000\"/>\n",
       "<text fill=\"#000000\" font-family=\"Times,serif\" font-size=\"14.00\" text-anchor=\"middle\" x=\"66.1431\" y=\"-99.3\">Flatten_1: Flatten</text>\n",
       "<polyline fill=\"none\" points=\"123.7207,-81.5 123.7207,-125.5 \" stroke=\"#000000\"/>\n",
       "<text fill=\"#000000\" font-family=\"Times,serif\" font-size=\"14.00\" text-anchor=\"middle\" x=\"151.5552\" y=\"-110.3\">input:</text>\n",
       "<polyline fill=\"none\" points=\"123.7207,-103.5 179.3896,-103.5 \" stroke=\"#000000\"/>\n",
       "<text fill=\"#000000\" font-family=\"Times,serif\" font-size=\"14.00\" text-anchor=\"middle\" x=\"151.5552\" y=\"-88.3\">output:</text>\n",
       "<polyline fill=\"none\" points=\"179.3896,-81.5 179.3896,-125.5 \" stroke=\"#000000\"/>\n",
       "<text fill=\"#000000\" font-family=\"Times,serif\" font-size=\"14.00\" text-anchor=\"middle\" x=\"228.2139\" y=\"-110.3\">(None, 6, 6, 3)</text>\n",
       "<polyline fill=\"none\" points=\"179.3896,-103.5 277.0381,-103.5 \" stroke=\"#000000\"/>\n",
       "<text fill=\"#000000\" font-family=\"Times,serif\" font-size=\"14.00\" text-anchor=\"middle\" x=\"228.2139\" y=\"-88.3\">(None, 108)</text>\n",
       "</g>\n",
       "<!-- 140387450109904&#45;&gt;140387991708560 -->\n",
       "<g class=\"edge\" id=\"edge2\">\n",
       "<title>140387450109904-&gt;140387991708560</title>\n",
       "<path d=\"M142.8018,-162.3664C142.8018,-154.1516 142.8018,-144.6579 142.8018,-135.7252\" fill=\"none\" stroke=\"#000000\"/>\n",
       "<polygon fill=\"#000000\" points=\"146.3019,-135.6068 142.8018,-125.6068 139.3019,-135.6069 146.3019,-135.6068\" stroke=\"#000000\"/>\n",
       "</g>\n",
       "<!-- 140387991710464 -->\n",
       "<g class=\"node\" id=\"node3\">\n",
       "<title>140387991710464</title>\n",
       "<polygon fill=\"none\" points=\"19.4619,-.5 19.4619,-44.5 266.1416,-44.5 266.1416,-.5 19.4619,-.5\" stroke=\"#000000\"/>\n",
       "<text fill=\"#000000\" font-family=\"Times,serif\" font-size=\"14.00\" text-anchor=\"middle\" x=\"73.1431\" y=\"-18.3\">Dense_1: Dense</text>\n",
       "<polyline fill=\"none\" points=\"126.8242,-.5 126.8242,-44.5 \" stroke=\"#000000\"/>\n",
       "<text fill=\"#000000\" font-family=\"Times,serif\" font-size=\"14.00\" text-anchor=\"middle\" x=\"154.6587\" y=\"-29.3\">input:</text>\n",
       "<polyline fill=\"none\" points=\"126.8242,-22.5 182.4932,-22.5 \" stroke=\"#000000\"/>\n",
       "<text fill=\"#000000\" font-family=\"Times,serif\" font-size=\"14.00\" text-anchor=\"middle\" x=\"154.6587\" y=\"-7.3\">output:</text>\n",
       "<polyline fill=\"none\" points=\"182.4932,-.5 182.4932,-44.5 \" stroke=\"#000000\"/>\n",
       "<text fill=\"#000000\" font-family=\"Times,serif\" font-size=\"14.00\" text-anchor=\"middle\" x=\"224.3174\" y=\"-29.3\">(None, 108)</text>\n",
       "<polyline fill=\"none\" points=\"182.4932,-22.5 266.1416,-22.5 \" stroke=\"#000000\"/>\n",
       "<text fill=\"#000000\" font-family=\"Times,serif\" font-size=\"14.00\" text-anchor=\"middle\" x=\"224.3174\" y=\"-7.3\">(None, 1)</text>\n",
       "</g>\n",
       "<!-- 140387991708560&#45;&gt;140387991710464 -->\n",
       "<g class=\"edge\" id=\"edge3\">\n",
       "<title>140387991708560-&gt;140387991710464</title>\n",
       "<path d=\"M142.8018,-81.3664C142.8018,-73.1516 142.8018,-63.6579 142.8018,-54.7252\" fill=\"none\" stroke=\"#000000\"/>\n",
       "<polygon fill=\"#000000\" points=\"146.3019,-54.6068 142.8018,-44.6068 139.3019,-54.6069 146.3019,-54.6068\" stroke=\"#000000\"/>\n",
       "</g>\n",
       "<!-- 140387991707888 -->\n",
       "<g class=\"node\" id=\"node4\">\n",
       "<title>140387991707888</title>\n",
       "<polygon fill=\"none\" points=\"82.3018,-243.5 82.3018,-279.5 203.3018,-279.5 203.3018,-243.5 82.3018,-243.5\" stroke=\"#000000\"/>\n",
       "<text fill=\"#000000\" font-family=\"Times,serif\" font-size=\"14.00\" text-anchor=\"middle\" x=\"142.8018\" y=\"-257.3\">140387991707888</text>\n",
       "</g>\n",
       "<!-- 140387991707888&#45;&gt;140387450109904 -->\n",
       "<g class=\"edge\" id=\"edge1\">\n",
       "<title>140387991707888-&gt;140387450109904</title>\n",
       "<path d=\"M142.8018,-243.2521C142.8018,-235.3888 142.8018,-225.9498 142.8018,-216.9612\" fill=\"none\" stroke=\"#000000\"/>\n",
       "<polygon fill=\"#000000\" points=\"146.3019,-216.7376 142.8018,-206.7377 139.3019,-216.7377 146.3019,-216.7376\" stroke=\"#000000\"/>\n",
       "</g>\n",
       "</g>\n",
       "</svg>"
      ],
      "text/plain": [
       "<IPython.core.display.SVG object>"
      ]
     },
     "execution_count": 6,
     "metadata": {},
     "output_type": "execute_result"
    }
   ],
   "source": [
    "SVG(model_to_dot(model, show_shapes=True).create(prog='dot', format='svg'))"
   ]
  }
 ],
 "metadata": {
  "kernelspec": {
   "display_name": "Python 3",
   "language": "python",
   "name": "python3"
  },
  "language_info": {
   "codemirror_mode": {
    "name": "ipython",
    "version": 3
   },
   "file_extension": ".py",
   "mimetype": "text/x-python",
   "name": "python",
   "nbconvert_exporter": "python",
   "pygments_lexer": "ipython3",
   "version": "3.7.2"
  }
 },
 "nbformat": 4,
 "nbformat_minor": 2
}
