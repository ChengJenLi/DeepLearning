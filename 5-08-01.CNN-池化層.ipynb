{
 "cells": [
  {
   "cell_type": "markdown",
   "metadata": {},
   "source": [
    "# Conv2D.CNN-池化層"
   ]
  },
  {
   "cell_type": "code",
   "execution_count": 1,
   "metadata": {},
   "outputs": [],
   "source": [
    "# coding: utf-8"
   ]
  },
  {
   "cell_type": "markdown",
   "metadata": {},
   "source": [
    "## 匯入Keras與其他函式庫"
   ]
  },
  {
   "cell_type": "code",
   "execution_count": 2,
   "metadata": {},
   "outputs": [
    {
     "name": "stderr",
     "output_type": "stream",
     "text": [
      "Using TensorFlow backend.\n"
     ]
    }
   ],
   "source": [
    "from keras.models import Sequential, Model\n",
    "from keras.layers import Conv2D, MaxPooling2D\n",
    "from keras.utils import np_utils"
   ]
  },
  {
   "cell_type": "markdown",
   "metadata": {},
   "source": [
    "## 匯入SVG需要的函式庫"
   ]
  },
  {
   "cell_type": "code",
   "execution_count": 3,
   "metadata": {},
   "outputs": [],
   "source": [
    "from IPython.display import SVG\n",
    "from keras.utils.vis_utils import model_to_dot"
   ]
  },
  {
   "cell_type": "markdown",
   "metadata": {},
   "source": [
    "# CNN+池化層激勵函數"
   ]
  },
  {
   "cell_type": "code",
   "execution_count": 5,
   "metadata": {},
   "outputs": [],
   "source": [
    "model = Sequential()\n",
    "model.add(Conv2D(filters=3, kernel_size=(3, 3), input_shape=(6, 6, 1), strides=2, name='Conv2D_1'))\n",
    "model.add(MaxPooling2D(pool_size=(2, 2), name='MaxPooling2D_1'))"
   ]
  },
  {
   "cell_type": "markdown",
   "metadata": {},
   "source": [
    "## 以SVG格式顯示卷積神經網路模型"
   ]
  },
  {
   "cell_type": "code",
   "execution_count": 6,
   "metadata": {},
   "outputs": [
    {
     "data": {
      "image/svg+xml": [
       "<svg height=\"207pt\" viewBox=\"0.00 0.00 371.38 207.00\" width=\"371pt\" xmlns=\"http://www.w3.org/2000/svg\" xmlns:xlink=\"http://www.w3.org/1999/xlink\">\n",
       "<g class=\"graph\" id=\"graph0\" transform=\"scale(1 1) rotate(0) translate(4 203)\">\n",
       "<title>G</title>\n",
       "<polygon fill=\"#ffffff\" points=\"-4,4 -4,-203 367.3828,-203 367.3828,4 -4,4\" stroke=\"transparent\"/>\n",
       "<!-- 140639570405472 -->\n",
       "<g class=\"node\" id=\"node1\">\n",
       "<title>140639570405472</title>\n",
       "<polygon fill=\"none\" points=\"38.8896,-81.5 38.8896,-125.5 324.4932,-125.5 324.4932,-81.5 38.8896,-81.5\" stroke=\"#000000\"/>\n",
       "<text fill=\"#000000\" font-family=\"Times,serif\" font-size=\"14.00\" text-anchor=\"middle\" x=\"105.0327\" y=\"-99.3\">Conv2D_1: Conv2D</text>\n",
       "<polyline fill=\"none\" points=\"171.1758,-81.5 171.1758,-125.5 \" stroke=\"#000000\"/>\n",
       "<text fill=\"#000000\" font-family=\"Times,serif\" font-size=\"14.00\" text-anchor=\"middle\" x=\"199.0103\" y=\"-110.3\">input:</text>\n",
       "<polyline fill=\"none\" points=\"171.1758,-103.5 226.8447,-103.5 \" stroke=\"#000000\"/>\n",
       "<text fill=\"#000000\" font-family=\"Times,serif\" font-size=\"14.00\" text-anchor=\"middle\" x=\"199.0103\" y=\"-88.3\">output:</text>\n",
       "<polyline fill=\"none\" points=\"226.8447,-81.5 226.8447,-125.5 \" stroke=\"#000000\"/>\n",
       "<text fill=\"#000000\" font-family=\"Times,serif\" font-size=\"14.00\" text-anchor=\"middle\" x=\"275.6689\" y=\"-110.3\">(None, 6, 6, 1)</text>\n",
       "<polyline fill=\"none\" points=\"226.8447,-103.5 324.4932,-103.5 \" stroke=\"#000000\"/>\n",
       "<text fill=\"#000000\" font-family=\"Times,serif\" font-size=\"14.00\" text-anchor=\"middle\" x=\"275.6689\" y=\"-88.3\">(None, 2, 2, 3)</text>\n",
       "</g>\n",
       "<!-- 140641396130200 -->\n",
       "<g class=\"node\" id=\"node2\">\n",
       "<title>140641396130200</title>\n",
       "<polygon fill=\"none\" points=\"0,-.5 0,-44.5 363.3828,-44.5 363.3828,-.5 0,-.5\" stroke=\"#000000\"/>\n",
       "<text fill=\"#000000\" font-family=\"Times,serif\" font-size=\"14.00\" text-anchor=\"middle\" x=\"105.0327\" y=\"-18.3\">MaxPooling2D_1: MaxPooling2D</text>\n",
       "<polyline fill=\"none\" points=\"210.0654,-.5 210.0654,-44.5 \" stroke=\"#000000\"/>\n",
       "<text fill=\"#000000\" font-family=\"Times,serif\" font-size=\"14.00\" text-anchor=\"middle\" x=\"237.8999\" y=\"-29.3\">input:</text>\n",
       "<polyline fill=\"none\" points=\"210.0654,-22.5 265.7344,-22.5 \" stroke=\"#000000\"/>\n",
       "<text fill=\"#000000\" font-family=\"Times,serif\" font-size=\"14.00\" text-anchor=\"middle\" x=\"237.8999\" y=\"-7.3\">output:</text>\n",
       "<polyline fill=\"none\" points=\"265.7344,-.5 265.7344,-44.5 \" stroke=\"#000000\"/>\n",
       "<text fill=\"#000000\" font-family=\"Times,serif\" font-size=\"14.00\" text-anchor=\"middle\" x=\"314.5586\" y=\"-29.3\">(None, 2, 2, 3)</text>\n",
       "<polyline fill=\"none\" points=\"265.7344,-22.5 363.3828,-22.5 \" stroke=\"#000000\"/>\n",
       "<text fill=\"#000000\" font-family=\"Times,serif\" font-size=\"14.00\" text-anchor=\"middle\" x=\"314.5586\" y=\"-7.3\">(None, 1, 1, 3)</text>\n",
       "</g>\n",
       "<!-- 140639570405472&#45;&gt;140641396130200 -->\n",
       "<g class=\"edge\" id=\"edge2\">\n",
       "<title>140639570405472-&gt;140641396130200</title>\n",
       "<path d=\"M181.6914,-81.3664C181.6914,-73.1516 181.6914,-63.6579 181.6914,-54.7252\" fill=\"none\" stroke=\"#000000\"/>\n",
       "<polygon fill=\"#000000\" points=\"185.1915,-54.6068 181.6914,-44.6068 178.1915,-54.6069 185.1915,-54.6068\" stroke=\"#000000\"/>\n",
       "</g>\n",
       "<!-- 140641396132160 -->\n",
       "<g class=\"node\" id=\"node3\">\n",
       "<title>140641396132160</title>\n",
       "<polygon fill=\"none\" points=\"121.1914,-162.5 121.1914,-198.5 242.1914,-198.5 242.1914,-162.5 121.1914,-162.5\" stroke=\"#000000\"/>\n",
       "<text fill=\"#000000\" font-family=\"Times,serif\" font-size=\"14.00\" text-anchor=\"middle\" x=\"181.6914\" y=\"-176.3\">140641396132160</text>\n",
       "</g>\n",
       "<!-- 140641396132160&#45;&gt;140639570405472 -->\n",
       "<g class=\"edge\" id=\"edge1\">\n",
       "<title>140641396132160-&gt;140639570405472</title>\n",
       "<path d=\"M181.6914,-162.2521C181.6914,-154.3888 181.6914,-144.9498 181.6914,-135.9612\" fill=\"none\" stroke=\"#000000\"/>\n",
       "<polygon fill=\"#000000\" points=\"185.1915,-135.7376 181.6914,-125.7377 178.1915,-135.7377 185.1915,-135.7376\" stroke=\"#000000\"/>\n",
       "</g>\n",
       "</g>\n",
       "</svg>"
      ],
      "text/plain": [
       "<IPython.core.display.SVG object>"
      ]
     },
     "execution_count": 6,
     "metadata": {},
     "output_type": "execute_result"
    }
   ],
   "source": [
    "SVG(model_to_dot(model, show_shapes=True).create(prog='dot', format='svg'))"
   ]
  }
 ],
 "metadata": {
  "kernelspec": {
   "display_name": "Python 3",
   "language": "python",
   "name": "python3"
  },
  "language_info": {
   "codemirror_mode": {
    "name": "ipython",
    "version": 3
   },
   "file_extension": ".py",
   "mimetype": "text/x-python",
   "name": "python",
   "nbconvert_exporter": "python",
   "pygments_lexer": "ipython3",
   "version": "3.7.2"
  }
 },
 "nbformat": 4,
 "nbformat_minor": 2
}
