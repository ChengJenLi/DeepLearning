{
 "cells": [
  {
   "cell_type": "markdown",
   "metadata": {},
   "source": [
    "# RNN Model 2 - LSTM"
   ]
  },
  {
   "cell_type": "code",
   "execution_count": 1,
   "metadata": {},
   "outputs": [],
   "source": [
    "# coding: utf-8"
   ]
  },
  {
   "cell_type": "markdown",
   "metadata": {},
   "source": [
    "## 匯入Keras SVG等函式庫"
   ]
  },
  {
   "cell_type": "code",
   "execution_count": 2,
   "metadata": {},
   "outputs": [
    {
     "name": "stderr",
     "output_type": "stream",
     "text": [
      "Using TensorFlow backend.\n"
     ]
    }
   ],
   "source": [
    "from keras.models import Model\n",
    "from keras.layers import Input, LSTM\n",
    "\n",
    "from IPython.display import SVG\n",
    "from keras.utils.vis_utils import model_to_dot"
   ]
  },
  {
   "cell_type": "markdown",
   "metadata": {},
   "source": [
    "### 參數定義 //單位//步數 //維度//資料形狀"
   ]
  },
  {
   "cell_type": "code",
   "execution_count": 3,
   "metadata": {},
   "outputs": [],
   "source": [
    "units = 10\n",
    "time_steps = 5\n",
    "input_dim = 15\n",
    "input_shape = (time_steps, input_dim)"
   ]
  },
  {
   "cell_type": "markdown",
   "metadata": {},
   "source": [
    "## 製作RNN模型"
   ]
  },
  {
   "cell_type": "code",
   "execution_count": 5,
   "metadata": {},
   "outputs": [],
   "source": [
    "x = Input(shape=input_shape, name='Input')\n",
    "y = LSTM(units=units, activation='sigmoid', name='LSTM_1')(x)\n",
    "model = Model(inputs=[x], outputs=[y])"
   ]
  },
  {
   "cell_type": "markdown",
   "metadata": {},
   "source": [
    "### 以SVG形式顯示模型"
   ]
  },
  {
   "cell_type": "code",
   "execution_count": 6,
   "metadata": {},
   "outputs": [
    {
     "data": {
      "image/svg+xml": [
       "<svg height=\"134pt\" viewBox=\"0.00 0.00 269.45 134.00\" width=\"269pt\" xmlns=\"http://www.w3.org/2000/svg\" xmlns:xlink=\"http://www.w3.org/1999/xlink\">\n",
       "<g class=\"graph\" id=\"graph0\" transform=\"scale(1 1) rotate(0) translate(4 130)\">\n",
       "<title>G</title>\n",
       "<polygon fill=\"#ffffff\" points=\"-4,4 -4,-130 265.4521,-130 265.4521,4 -4,4\" stroke=\"transparent\"/>\n",
       "<!-- 140550003441616 -->\n",
       "<g class=\"node\" id=\"node1\">\n",
       "<title>140550003441616</title>\n",
       "<polygon fill=\"none\" points=\"0,-81.5 0,-125.5 261.4521,-125.5 261.4521,-81.5 0,-81.5\" stroke=\"#000000\"/>\n",
       "<text fill=\"#000000\" font-family=\"Times,serif\" font-size=\"14.00\" text-anchor=\"middle\" x=\"57.5674\" y=\"-99.3\">Input: InputLayer</text>\n",
       "<polyline fill=\"none\" points=\"115.1348,-81.5 115.1348,-125.5 \" stroke=\"#000000\"/>\n",
       "<text fill=\"#000000\" font-family=\"Times,serif\" font-size=\"14.00\" text-anchor=\"middle\" x=\"142.9692\" y=\"-110.3\">input:</text>\n",
       "<polyline fill=\"none\" points=\"115.1348,-103.5 170.8037,-103.5 \" stroke=\"#000000\"/>\n",
       "<text fill=\"#000000\" font-family=\"Times,serif\" font-size=\"14.00\" text-anchor=\"middle\" x=\"142.9692\" y=\"-88.3\">output:</text>\n",
       "<polyline fill=\"none\" points=\"170.8037,-81.5 170.8037,-125.5 \" stroke=\"#000000\"/>\n",
       "<text fill=\"#000000\" font-family=\"Times,serif\" font-size=\"14.00\" text-anchor=\"middle\" x=\"216.1279\" y=\"-110.3\">(None, 5, 15)</text>\n",
       "<polyline fill=\"none\" points=\"170.8037,-103.5 261.4521,-103.5 \" stroke=\"#000000\"/>\n",
       "<text fill=\"#000000\" font-family=\"Times,serif\" font-size=\"14.00\" text-anchor=\"middle\" x=\"216.1279\" y=\"-88.3\">(None, 5, 15)</text>\n",
       "</g>\n",
       "<!-- 140550003441280 -->\n",
       "<g class=\"node\" id=\"node2\">\n",
       "<title>140550003441280</title>\n",
       "<polygon fill=\"none\" points=\"1.5347,-.5 1.5347,-44.5 259.9175,-44.5 259.9175,-.5 1.5347,-.5\" stroke=\"#000000\"/>\n",
       "<text fill=\"#000000\" font-family=\"Times,serif\" font-size=\"14.00\" text-anchor=\"middle\" x=\"57.5674\" y=\"-18.3\">LSTM_1: LSTM</text>\n",
       "<polyline fill=\"none\" points=\"113.6001,-.5 113.6001,-44.5 \" stroke=\"#000000\"/>\n",
       "<text fill=\"#000000\" font-family=\"Times,serif\" font-size=\"14.00\" text-anchor=\"middle\" x=\"141.4346\" y=\"-29.3\">input:</text>\n",
       "<polyline fill=\"none\" points=\"113.6001,-22.5 169.269,-22.5 \" stroke=\"#000000\"/>\n",
       "<text fill=\"#000000\" font-family=\"Times,serif\" font-size=\"14.00\" text-anchor=\"middle\" x=\"141.4346\" y=\"-7.3\">output:</text>\n",
       "<polyline fill=\"none\" points=\"169.269,-.5 169.269,-44.5 \" stroke=\"#000000\"/>\n",
       "<text fill=\"#000000\" font-family=\"Times,serif\" font-size=\"14.00\" text-anchor=\"middle\" x=\"214.5933\" y=\"-29.3\">(None, 5, 15)</text>\n",
       "<polyline fill=\"none\" points=\"169.269,-22.5 259.9175,-22.5 \" stroke=\"#000000\"/>\n",
       "<text fill=\"#000000\" font-family=\"Times,serif\" font-size=\"14.00\" text-anchor=\"middle\" x=\"214.5933\" y=\"-7.3\">(None, 10)</text>\n",
       "</g>\n",
       "<!-- 140550003441616&#45;&gt;140550003441280 -->\n",
       "<g class=\"edge\" id=\"edge1\">\n",
       "<title>140550003441616-&gt;140550003441280</title>\n",
       "<path d=\"M130.7261,-81.3664C130.7261,-73.1516 130.7261,-63.6579 130.7261,-54.7252\" fill=\"none\" stroke=\"#000000\"/>\n",
       "<polygon fill=\"#000000\" points=\"134.2262,-54.6068 130.7261,-44.6068 127.2262,-54.6069 134.2262,-54.6068\" stroke=\"#000000\"/>\n",
       "</g>\n",
       "</g>\n",
       "</svg>"
      ],
      "text/plain": [
       "<IPython.core.display.SVG object>"
      ]
     },
     "execution_count": 6,
     "metadata": {},
     "output_type": "execute_result"
    }
   ],
   "source": [
    "SVG(model_to_dot(model, show_shapes=True).create(prog='dot', format='svg'))"
   ]
  },
  {
   "cell_type": "markdown",
   "metadata": {},
   "source": [
    "## 製作RNN模型，輸出序列"
   ]
  },
  {
   "cell_type": "code",
   "execution_count": 7,
   "metadata": {},
   "outputs": [],
   "source": [
    "y = LSTM(units=units, activation='sigmoid', return_sequences=True, name='LSTM_1')(x)\n",
    "model = Model(inputs=[x], outputs=[y])"
   ]
  },
  {
   "cell_type": "markdown",
   "metadata": {},
   "source": [
    "### 以SVG形式顯示模型"
   ]
  },
  {
   "cell_type": "code",
   "execution_count": 8,
   "metadata": {},
   "outputs": [
    {
     "data": {
      "image/svg+xml": [
       "<svg height=\"134pt\" viewBox=\"0.00 0.00 269.45 134.00\" width=\"269pt\" xmlns=\"http://www.w3.org/2000/svg\" xmlns:xlink=\"http://www.w3.org/1999/xlink\">\n",
       "<g class=\"graph\" id=\"graph0\" transform=\"scale(1 1) rotate(0) translate(4 130)\">\n",
       "<title>G</title>\n",
       "<polygon fill=\"#ffffff\" points=\"-4,4 -4,-130 265.4521,-130 265.4521,4 -4,4\" stroke=\"transparent\"/>\n",
       "<!-- 140550003441616 -->\n",
       "<g class=\"node\" id=\"node1\">\n",
       "<title>140550003441616</title>\n",
       "<polygon fill=\"none\" points=\"0,-81.5 0,-125.5 261.4521,-125.5 261.4521,-81.5 0,-81.5\" stroke=\"#000000\"/>\n",
       "<text fill=\"#000000\" font-family=\"Times,serif\" font-size=\"14.00\" text-anchor=\"middle\" x=\"57.5674\" y=\"-99.3\">Input: InputLayer</text>\n",
       "<polyline fill=\"none\" points=\"115.1348,-81.5 115.1348,-125.5 \" stroke=\"#000000\"/>\n",
       "<text fill=\"#000000\" font-family=\"Times,serif\" font-size=\"14.00\" text-anchor=\"middle\" x=\"142.9692\" y=\"-110.3\">input:</text>\n",
       "<polyline fill=\"none\" points=\"115.1348,-103.5 170.8037,-103.5 \" stroke=\"#000000\"/>\n",
       "<text fill=\"#000000\" font-family=\"Times,serif\" font-size=\"14.00\" text-anchor=\"middle\" x=\"142.9692\" y=\"-88.3\">output:</text>\n",
       "<polyline fill=\"none\" points=\"170.8037,-81.5 170.8037,-125.5 \" stroke=\"#000000\"/>\n",
       "<text fill=\"#000000\" font-family=\"Times,serif\" font-size=\"14.00\" text-anchor=\"middle\" x=\"216.1279\" y=\"-110.3\">(None, 5, 15)</text>\n",
       "<polyline fill=\"none\" points=\"170.8037,-103.5 261.4521,-103.5 \" stroke=\"#000000\"/>\n",
       "<text fill=\"#000000\" font-family=\"Times,serif\" font-size=\"14.00\" text-anchor=\"middle\" x=\"216.1279\" y=\"-88.3\">(None, 5, 15)</text>\n",
       "</g>\n",
       "<!-- 140550004943112 -->\n",
       "<g class=\"node\" id=\"node2\">\n",
       "<title>140550004943112</title>\n",
       "<polygon fill=\"none\" points=\"1.5347,-.5 1.5347,-44.5 259.9175,-44.5 259.9175,-.5 1.5347,-.5\" stroke=\"#000000\"/>\n",
       "<text fill=\"#000000\" font-family=\"Times,serif\" font-size=\"14.00\" text-anchor=\"middle\" x=\"57.5674\" y=\"-18.3\">LSTM_1: LSTM</text>\n",
       "<polyline fill=\"none\" points=\"113.6001,-.5 113.6001,-44.5 \" stroke=\"#000000\"/>\n",
       "<text fill=\"#000000\" font-family=\"Times,serif\" font-size=\"14.00\" text-anchor=\"middle\" x=\"141.4346\" y=\"-29.3\">input:</text>\n",
       "<polyline fill=\"none\" points=\"113.6001,-22.5 169.269,-22.5 \" stroke=\"#000000\"/>\n",
       "<text fill=\"#000000\" font-family=\"Times,serif\" font-size=\"14.00\" text-anchor=\"middle\" x=\"141.4346\" y=\"-7.3\">output:</text>\n",
       "<polyline fill=\"none\" points=\"169.269,-.5 169.269,-44.5 \" stroke=\"#000000\"/>\n",
       "<text fill=\"#000000\" font-family=\"Times,serif\" font-size=\"14.00\" text-anchor=\"middle\" x=\"214.5933\" y=\"-29.3\">(None, 5, 15)</text>\n",
       "<polyline fill=\"none\" points=\"169.269,-22.5 259.9175,-22.5 \" stroke=\"#000000\"/>\n",
       "<text fill=\"#000000\" font-family=\"Times,serif\" font-size=\"14.00\" text-anchor=\"middle\" x=\"214.5933\" y=\"-7.3\">(None, 5, 10)</text>\n",
       "</g>\n",
       "<!-- 140550003441616&#45;&gt;140550004943112 -->\n",
       "<g class=\"edge\" id=\"edge1\">\n",
       "<title>140550003441616-&gt;140550004943112</title>\n",
       "<path d=\"M130.7261,-81.3664C130.7261,-73.1516 130.7261,-63.6579 130.7261,-54.7252\" fill=\"none\" stroke=\"#000000\"/>\n",
       "<polygon fill=\"#000000\" points=\"134.2262,-54.6068 130.7261,-44.6068 127.2262,-54.6069 134.2262,-54.6068\" stroke=\"#000000\"/>\n",
       "</g>\n",
       "</g>\n",
       "</svg>"
      ],
      "text/plain": [
       "<IPython.core.display.SVG object>"
      ]
     },
     "execution_count": 8,
     "metadata": {},
     "output_type": "execute_result"
    }
   ],
   "source": [
    "SVG(model_to_dot(model, show_shapes=True).create(prog='dot', format='svg'))"
   ]
  },
  {
   "cell_type": "markdown",
   "metadata": {},
   "source": [
    "## 製作RNN模型，輸出內部狀態"
   ]
  },
  {
   "cell_type": "code",
   "execution_count": 9,
   "metadata": {},
   "outputs": [],
   "source": [
    "x = Input(shape=input_shape, name='Input')\n",
    "y, state_1, state_2 = LSTM(units=units, activation='sigmoid', return_state=True, name='LSTM_1')(x)\n",
    "model = Model(inputs=[x], outputs=[y])"
   ]
  },
  {
   "cell_type": "markdown",
   "metadata": {},
   "source": [
    "### 以SVG形式顯示模型"
   ]
  },
  {
   "cell_type": "code",
   "execution_count": 10,
   "metadata": {},
   "outputs": [
    {
     "data": {
      "image/svg+xml": [
       "<svg height=\"134pt\" viewBox=\"0.00 0.00 397.00 134.00\" width=\"397pt\" xmlns=\"http://www.w3.org/2000/svg\" xmlns:xlink=\"http://www.w3.org/1999/xlink\">\n",
       "<g class=\"graph\" id=\"graph0\" transform=\"scale(1 1) rotate(0) translate(4 130)\">\n",
       "<title>G</title>\n",
       "<polygon fill=\"#ffffff\" points=\"-4,4 -4,-130 393.0039,-130 393.0039,4 -4,4\" stroke=\"transparent\"/>\n",
       "<!-- 140550005643752 -->\n",
       "<g class=\"node\" id=\"node1\">\n",
       "<title>140550005643752</title>\n",
       "<polygon fill=\"none\" points=\"63.7759,-81.5 63.7759,-125.5 325.228,-125.5 325.228,-81.5 63.7759,-81.5\" stroke=\"#000000\"/>\n",
       "<text fill=\"#000000\" font-family=\"Times,serif\" font-size=\"14.00\" text-anchor=\"middle\" x=\"121.3433\" y=\"-99.3\">Input: InputLayer</text>\n",
       "<polyline fill=\"none\" points=\"178.9106,-81.5 178.9106,-125.5 \" stroke=\"#000000\"/>\n",
       "<text fill=\"#000000\" font-family=\"Times,serif\" font-size=\"14.00\" text-anchor=\"middle\" x=\"206.7451\" y=\"-110.3\">input:</text>\n",
       "<polyline fill=\"none\" points=\"178.9106,-103.5 234.5796,-103.5 \" stroke=\"#000000\"/>\n",
       "<text fill=\"#000000\" font-family=\"Times,serif\" font-size=\"14.00\" text-anchor=\"middle\" x=\"206.7451\" y=\"-88.3\">output:</text>\n",
       "<polyline fill=\"none\" points=\"234.5796,-81.5 234.5796,-125.5 \" stroke=\"#000000\"/>\n",
       "<text fill=\"#000000\" font-family=\"Times,serif\" font-size=\"14.00\" text-anchor=\"middle\" x=\"279.9038\" y=\"-110.3\">(None, 5, 15)</text>\n",
       "<polyline fill=\"none\" points=\"234.5796,-103.5 325.228,-103.5 \" stroke=\"#000000\"/>\n",
       "<text fill=\"#000000\" font-family=\"Times,serif\" font-size=\"14.00\" text-anchor=\"middle\" x=\"279.9038\" y=\"-88.3\">(None, 5, 15)</text>\n",
       "</g>\n",
       "<!-- 140550004771528 -->\n",
       "<g class=\"node\" id=\"node2\">\n",
       "<title>140550004771528</title>\n",
       "<polygon fill=\"none\" points=\"0,-.5 0,-44.5 389.0039,-44.5 389.0039,-.5 0,-.5\" stroke=\"#000000\"/>\n",
       "<text fill=\"#000000\" font-family=\"Times,serif\" font-size=\"14.00\" text-anchor=\"middle\" x=\"56.0327\" y=\"-18.3\">LSTM_1: LSTM</text>\n",
       "<polyline fill=\"none\" points=\"112.0654,-.5 112.0654,-44.5 \" stroke=\"#000000\"/>\n",
       "<text fill=\"#000000\" font-family=\"Times,serif\" font-size=\"14.00\" text-anchor=\"middle\" x=\"139.8999\" y=\"-29.3\">input:</text>\n",
       "<polyline fill=\"none\" points=\"112.0654,-22.5 167.7344,-22.5 \" stroke=\"#000000\"/>\n",
       "<text fill=\"#000000\" font-family=\"Times,serif\" font-size=\"14.00\" text-anchor=\"middle\" x=\"139.8999\" y=\"-7.3\">output:</text>\n",
       "<polyline fill=\"none\" points=\"167.7344,-.5 167.7344,-44.5 \" stroke=\"#000000\"/>\n",
       "<text fill=\"#000000\" font-family=\"Times,serif\" font-size=\"14.00\" text-anchor=\"middle\" x=\"278.0586\" y=\"-29.3\">(None, 5, 15)</text>\n",
       "<polyline fill=\"none\" points=\"167.7344,-22.5 389.0039,-22.5 \" stroke=\"#000000\"/>\n",
       "<text fill=\"#000000\" font-family=\"Times,serif\" font-size=\"14.00\" text-anchor=\"middle\" x=\"278.3691\" y=\"-7.3\">[(None, 10), (None, 10), (None, 10)]</text>\n",
       "</g>\n",
       "<!-- 140550005643752&#45;&gt;140550004771528 -->\n",
       "<g class=\"edge\" id=\"edge1\">\n",
       "<title>140550005643752-&gt;140550004771528</title>\n",
       "<path d=\"M194.502,-81.3664C194.502,-73.1516 194.502,-63.6579 194.502,-54.7252\" fill=\"none\" stroke=\"#000000\"/>\n",
       "<polygon fill=\"#000000\" points=\"198.0021,-54.6068 194.502,-44.6068 191.0021,-54.6069 198.0021,-54.6068\" stroke=\"#000000\"/>\n",
       "</g>\n",
       "</g>\n",
       "</svg>"
      ],
      "text/plain": [
       "<IPython.core.display.SVG object>"
      ]
     },
     "execution_count": 10,
     "metadata": {},
     "output_type": "execute_result"
    }
   ],
   "source": [
    "SVG(model_to_dot(model, show_shapes=True).create(prog='dot', format='svg'))"
   ]
  }
 ],
 "metadata": {
  "kernelspec": {
   "display_name": "Python 3",
   "language": "python",
   "name": "python3"
  },
  "language_info": {
   "codemirror_mode": {
    "name": "ipython",
    "version": 3
   },
   "file_extension": ".py",
   "mimetype": "text/x-python",
   "name": "python",
   "nbconvert_exporter": "python",
   "pygments_lexer": "ipython3",
   "version": "3.7.2"
  }
 },
 "nbformat": 4,
 "nbformat_minor": 2
}
