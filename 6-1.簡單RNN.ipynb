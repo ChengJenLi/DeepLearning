{
 "cells": [
  {
   "cell_type": "markdown",
   "metadata": {},
   "source": [
    "# 6-1.簡單RNN"
   ]
  },
  {
   "cell_type": "code",
   "execution_count": 1,
   "metadata": {},
   "outputs": [],
   "source": [
    "# coding: utf-8"
   ]
  },
  {
   "cell_type": "markdown",
   "metadata": {},
   "source": [
    "\n",
    "### 匯入Keras及其他函式庫"
   ]
  },
  {
   "cell_type": "code",
   "execution_count": 2,
   "metadata": {},
   "outputs": [
    {
     "name": "stderr",
     "output_type": "stream",
     "text": [
      "Using TensorFlow backend.\n"
     ]
    }
   ],
   "source": [
    "from keras.models import Model\n",
    "from keras.layers import Input, SimpleRNN\n",
    "from IPython.display import SVG\n",
    "from keras.utils.vis_utils import model_to_dot"
   ]
  },
  {
   "cell_type": "markdown",
   "metadata": {},
   "source": [
    "## 參數定義 //單位//步數 //維度//資料形狀"
   ]
  },
  {
   "cell_type": "code",
   "execution_count": 3,
   "metadata": {},
   "outputs": [],
   "source": [
    "units = 10  \n",
    "time_steps = 5  \n",
    "input_dim = 15 \n",
    "input_shape = (time_steps, input_dim) "
   ]
  },
  {
   "cell_type": "markdown",
   "metadata": {},
   "source": [
    "## 製作RNN模型"
   ]
  },
  {
   "cell_type": "code",
   "execution_count": 5,
   "metadata": {},
   "outputs": [],
   "source": [
    "x = Input(shape=input_shape, name='Input')\n",
    "y = SimpleRNN(units=units, activation='sigmoid', name='SimpleRNN_1')(x)\n",
    "model = Model(inputs=[x], outputs=[y])"
   ]
  },
  {
   "cell_type": "markdown",
   "metadata": {},
   "source": [
    "### 以SVG形式顯示模型"
   ]
  },
  {
   "cell_type": "code",
   "execution_count": 6,
   "metadata": {},
   "outputs": [
    {
     "data": {
      "image/svg+xml": [
       "<svg height=\"134pt\" viewBox=\"0.00 0.00 330.16 134.00\" width=\"330pt\" xmlns=\"http://www.w3.org/2000/svg\" xmlns:xlink=\"http://www.w3.org/1999/xlink\">\n",
       "<g class=\"graph\" id=\"graph0\" transform=\"scale(1 1) rotate(0) translate(4 130)\">\n",
       "<title>G</title>\n",
       "<polygon fill=\"#ffffff\" points=\"-4,4 -4,-130 326.1621,-130 326.1621,4 -4,4\" stroke=\"transparent\"/>\n",
       "<!-- 140387334037688 -->\n",
       "<g class=\"node\" id=\"node1\">\n",
       "<title>140387334037688</title>\n",
       "<polygon fill=\"none\" points=\"30.355,-81.5 30.355,-125.5 291.8071,-125.5 291.8071,-81.5 30.355,-81.5\" stroke=\"#000000\"/>\n",
       "<text fill=\"#000000\" font-family=\"Times,serif\" font-size=\"14.00\" text-anchor=\"middle\" x=\"87.9224\" y=\"-99.3\">Input: InputLayer</text>\n",
       "<polyline fill=\"none\" points=\"145.4897,-81.5 145.4897,-125.5 \" stroke=\"#000000\"/>\n",
       "<text fill=\"#000000\" font-family=\"Times,serif\" font-size=\"14.00\" text-anchor=\"middle\" x=\"173.3242\" y=\"-110.3\">input:</text>\n",
       "<polyline fill=\"none\" points=\"145.4897,-103.5 201.1587,-103.5 \" stroke=\"#000000\"/>\n",
       "<text fill=\"#000000\" font-family=\"Times,serif\" font-size=\"14.00\" text-anchor=\"middle\" x=\"173.3242\" y=\"-88.3\">output:</text>\n",
       "<polyline fill=\"none\" points=\"201.1587,-81.5 201.1587,-125.5 \" stroke=\"#000000\"/>\n",
       "<text fill=\"#000000\" font-family=\"Times,serif\" font-size=\"14.00\" text-anchor=\"middle\" x=\"246.4829\" y=\"-110.3\">(None, 5, 15)</text>\n",
       "<polyline fill=\"none\" points=\"201.1587,-103.5 291.8071,-103.5 \" stroke=\"#000000\"/>\n",
       "<text fill=\"#000000\" font-family=\"Times,serif\" font-size=\"14.00\" text-anchor=\"middle\" x=\"246.4829\" y=\"-88.3\">(None, 5, 15)</text>\n",
       "</g>\n",
       "<!-- 140387854242928 -->\n",
       "<g class=\"node\" id=\"node2\">\n",
       "<title>140387854242928</title>\n",
       "<polygon fill=\"none\" points=\"0,-.5 0,-44.5 322.1621,-44.5 322.1621,-.5 0,-.5\" stroke=\"#000000\"/>\n",
       "<text fill=\"#000000\" font-family=\"Times,serif\" font-size=\"14.00\" text-anchor=\"middle\" x=\"87.9224\" y=\"-18.3\">SimpleRNN_1: SimpleRNN</text>\n",
       "<polyline fill=\"none\" points=\"175.8447,-.5 175.8447,-44.5 \" stroke=\"#000000\"/>\n",
       "<text fill=\"#000000\" font-family=\"Times,serif\" font-size=\"14.00\" text-anchor=\"middle\" x=\"203.6792\" y=\"-29.3\">input:</text>\n",
       "<polyline fill=\"none\" points=\"175.8447,-22.5 231.5137,-22.5 \" stroke=\"#000000\"/>\n",
       "<text fill=\"#000000\" font-family=\"Times,serif\" font-size=\"14.00\" text-anchor=\"middle\" x=\"203.6792\" y=\"-7.3\">output:</text>\n",
       "<polyline fill=\"none\" points=\"231.5137,-.5 231.5137,-44.5 \" stroke=\"#000000\"/>\n",
       "<text fill=\"#000000\" font-family=\"Times,serif\" font-size=\"14.00\" text-anchor=\"middle\" x=\"276.8379\" y=\"-29.3\">(None, 5, 15)</text>\n",
       "<polyline fill=\"none\" points=\"231.5137,-22.5 322.1621,-22.5 \" stroke=\"#000000\"/>\n",
       "<text fill=\"#000000\" font-family=\"Times,serif\" font-size=\"14.00\" text-anchor=\"middle\" x=\"276.8379\" y=\"-7.3\">(None, 10)</text>\n",
       "</g>\n",
       "<!-- 140387334037688&#45;&gt;140387854242928 -->\n",
       "<g class=\"edge\" id=\"edge1\">\n",
       "<title>140387334037688-&gt;140387854242928</title>\n",
       "<path d=\"M161.0811,-81.3664C161.0811,-73.1516 161.0811,-63.6579 161.0811,-54.7252\" fill=\"none\" stroke=\"#000000\"/>\n",
       "<polygon fill=\"#000000\" points=\"164.5812,-54.6068 161.0811,-44.6068 157.5812,-54.6069 164.5812,-54.6068\" stroke=\"#000000\"/>\n",
       "</g>\n",
       "</g>\n",
       "</svg>"
      ],
      "text/plain": [
       "<IPython.core.display.SVG object>"
      ]
     },
     "execution_count": 6,
     "metadata": {},
     "output_type": "execute_result"
    }
   ],
   "source": [
    "SVG(model_to_dot(model, show_shapes=True).create(prog='dot', format='svg'))"
   ]
  },
  {
   "cell_type": "markdown",
   "metadata": {},
   "source": [
    "## 製作RNN模型，輸出序列"
   ]
  },
  {
   "cell_type": "code",
   "execution_count": 7,
   "metadata": {},
   "outputs": [],
   "source": [
    "y = SimpleRNN(units=units, activation='sigmoid', return_sequences=True, name='SimpleRNN_1')(x)\n",
    "model = Model(inputs=[x], outputs=[y])"
   ]
  },
  {
   "cell_type": "markdown",
   "metadata": {},
   "source": [
    "### 以SVG形式顯示模型"
   ]
  },
  {
   "cell_type": "code",
   "execution_count": 8,
   "metadata": {},
   "outputs": [
    {
     "data": {
      "image/svg+xml": [
       "<svg height=\"134pt\" viewBox=\"0.00 0.00 330.16 134.00\" width=\"330pt\" xmlns=\"http://www.w3.org/2000/svg\" xmlns:xlink=\"http://www.w3.org/1999/xlink\">\n",
       "<g class=\"graph\" id=\"graph0\" transform=\"scale(1 1) rotate(0) translate(4 130)\">\n",
       "<title>G</title>\n",
       "<polygon fill=\"#ffffff\" points=\"-4,4 -4,-130 326.1621,-130 326.1621,4 -4,4\" stroke=\"transparent\"/>\n",
       "<!-- 140387334037688 -->\n",
       "<g class=\"node\" id=\"node1\">\n",
       "<title>140387334037688</title>\n",
       "<polygon fill=\"none\" points=\"30.355,-81.5 30.355,-125.5 291.8071,-125.5 291.8071,-81.5 30.355,-81.5\" stroke=\"#000000\"/>\n",
       "<text fill=\"#000000\" font-family=\"Times,serif\" font-size=\"14.00\" text-anchor=\"middle\" x=\"87.9224\" y=\"-99.3\">Input: InputLayer</text>\n",
       "<polyline fill=\"none\" points=\"145.4897,-81.5 145.4897,-125.5 \" stroke=\"#000000\"/>\n",
       "<text fill=\"#000000\" font-family=\"Times,serif\" font-size=\"14.00\" text-anchor=\"middle\" x=\"173.3242\" y=\"-110.3\">input:</text>\n",
       "<polyline fill=\"none\" points=\"145.4897,-103.5 201.1587,-103.5 \" stroke=\"#000000\"/>\n",
       "<text fill=\"#000000\" font-family=\"Times,serif\" font-size=\"14.00\" text-anchor=\"middle\" x=\"173.3242\" y=\"-88.3\">output:</text>\n",
       "<polyline fill=\"none\" points=\"201.1587,-81.5 201.1587,-125.5 \" stroke=\"#000000\"/>\n",
       "<text fill=\"#000000\" font-family=\"Times,serif\" font-size=\"14.00\" text-anchor=\"middle\" x=\"246.4829\" y=\"-110.3\">(None, 5, 15)</text>\n",
       "<polyline fill=\"none\" points=\"201.1587,-103.5 291.8071,-103.5 \" stroke=\"#000000\"/>\n",
       "<text fill=\"#000000\" font-family=\"Times,serif\" font-size=\"14.00\" text-anchor=\"middle\" x=\"246.4829\" y=\"-88.3\">(None, 5, 15)</text>\n",
       "</g>\n",
       "<!-- 140387467870160 -->\n",
       "<g class=\"node\" id=\"node2\">\n",
       "<title>140387467870160</title>\n",
       "<polygon fill=\"none\" points=\"0,-.5 0,-44.5 322.1621,-44.5 322.1621,-.5 0,-.5\" stroke=\"#000000\"/>\n",
       "<text fill=\"#000000\" font-family=\"Times,serif\" font-size=\"14.00\" text-anchor=\"middle\" x=\"87.9224\" y=\"-18.3\">SimpleRNN_1: SimpleRNN</text>\n",
       "<polyline fill=\"none\" points=\"175.8447,-.5 175.8447,-44.5 \" stroke=\"#000000\"/>\n",
       "<text fill=\"#000000\" font-family=\"Times,serif\" font-size=\"14.00\" text-anchor=\"middle\" x=\"203.6792\" y=\"-29.3\">input:</text>\n",
       "<polyline fill=\"none\" points=\"175.8447,-22.5 231.5137,-22.5 \" stroke=\"#000000\"/>\n",
       "<text fill=\"#000000\" font-family=\"Times,serif\" font-size=\"14.00\" text-anchor=\"middle\" x=\"203.6792\" y=\"-7.3\">output:</text>\n",
       "<polyline fill=\"none\" points=\"231.5137,-.5 231.5137,-44.5 \" stroke=\"#000000\"/>\n",
       "<text fill=\"#000000\" font-family=\"Times,serif\" font-size=\"14.00\" text-anchor=\"middle\" x=\"276.8379\" y=\"-29.3\">(None, 5, 15)</text>\n",
       "<polyline fill=\"none\" points=\"231.5137,-22.5 322.1621,-22.5 \" stroke=\"#000000\"/>\n",
       "<text fill=\"#000000\" font-family=\"Times,serif\" font-size=\"14.00\" text-anchor=\"middle\" x=\"276.8379\" y=\"-7.3\">(None, 5, 10)</text>\n",
       "</g>\n",
       "<!-- 140387334037688&#45;&gt;140387467870160 -->\n",
       "<g class=\"edge\" id=\"edge1\">\n",
       "<title>140387334037688-&gt;140387467870160</title>\n",
       "<path d=\"M161.0811,-81.3664C161.0811,-73.1516 161.0811,-63.6579 161.0811,-54.7252\" fill=\"none\" stroke=\"#000000\"/>\n",
       "<polygon fill=\"#000000\" points=\"164.5812,-54.6068 161.0811,-44.6068 157.5812,-54.6069 164.5812,-54.6068\" stroke=\"#000000\"/>\n",
       "</g>\n",
       "</g>\n",
       "</svg>"
      ],
      "text/plain": [
       "<IPython.core.display.SVG object>"
      ]
     },
     "execution_count": 8,
     "metadata": {},
     "output_type": "execute_result"
    }
   ],
   "source": [
    "SVG(model_to_dot(model, show_shapes=True).create(prog='dot', format='svg'))"
   ]
  },
  {
   "cell_type": "markdown",
   "metadata": {},
   "source": [
    "## 製作RNN模型，輸出內部狀態"
   ]
  },
  {
   "cell_type": "code",
   "execution_count": 9,
   "metadata": {},
   "outputs": [],
   "source": [
    "y, state = SimpleRNN(units=units, activation='sigmoid', return_state=True, name='SimpleRNN_1')(x)\n",
    "model = Model(inputs=[x], outputs=[y])"
   ]
  },
  {
   "cell_type": "markdown",
   "metadata": {},
   "source": [
    "### 以SVG形式顯示模型"
   ]
  },
  {
   "cell_type": "code",
   "execution_count": 10,
   "metadata": {},
   "outputs": [
    {
     "data": {
      "image/svg+xml": [
       "<svg height=\"134pt\" viewBox=\"0.00 0.00 393.13 134.00\" width=\"393pt\" xmlns=\"http://www.w3.org/2000/svg\" xmlns:xlink=\"http://www.w3.org/1999/xlink\">\n",
       "<g class=\"graph\" id=\"graph0\" transform=\"scale(1 1) rotate(0) translate(4 130)\">\n",
       "<title>G</title>\n",
       "<polygon fill=\"#ffffff\" points=\"-4,4 -4,-130 389.1348,-130 389.1348,4 -4,4\" stroke=\"transparent\"/>\n",
       "<!-- 140387334037688 -->\n",
       "<g class=\"node\" id=\"node1\">\n",
       "<title>140387334037688</title>\n",
       "<polygon fill=\"none\" points=\"61.8413,-81.5 61.8413,-125.5 323.2935,-125.5 323.2935,-81.5 61.8413,-81.5\" stroke=\"#000000\"/>\n",
       "<text fill=\"#000000\" font-family=\"Times,serif\" font-size=\"14.00\" text-anchor=\"middle\" x=\"119.4087\" y=\"-99.3\">Input: InputLayer</text>\n",
       "<polyline fill=\"none\" points=\"176.9761,-81.5 176.9761,-125.5 \" stroke=\"#000000\"/>\n",
       "<text fill=\"#000000\" font-family=\"Times,serif\" font-size=\"14.00\" text-anchor=\"middle\" x=\"204.8105\" y=\"-110.3\">input:</text>\n",
       "<polyline fill=\"none\" points=\"176.9761,-103.5 232.645,-103.5 \" stroke=\"#000000\"/>\n",
       "<text fill=\"#000000\" font-family=\"Times,serif\" font-size=\"14.00\" text-anchor=\"middle\" x=\"204.8105\" y=\"-88.3\">output:</text>\n",
       "<polyline fill=\"none\" points=\"232.645,-81.5 232.645,-125.5 \" stroke=\"#000000\"/>\n",
       "<text fill=\"#000000\" font-family=\"Times,serif\" font-size=\"14.00\" text-anchor=\"middle\" x=\"277.9692\" y=\"-110.3\">(None, 5, 15)</text>\n",
       "<polyline fill=\"none\" points=\"232.645,-103.5 323.2935,-103.5 \" stroke=\"#000000\"/>\n",
       "<text fill=\"#000000\" font-family=\"Times,serif\" font-size=\"14.00\" text-anchor=\"middle\" x=\"277.9692\" y=\"-88.3\">(None, 5, 15)</text>\n",
       "</g>\n",
       "<!-- 140387468091064 -->\n",
       "<g class=\"node\" id=\"node2\">\n",
       "<title>140387468091064</title>\n",
       "<polygon fill=\"none\" points=\"0,-.5 0,-44.5 385.1348,-44.5 385.1348,-.5 0,-.5\" stroke=\"#000000\"/>\n",
       "<text fill=\"#000000\" font-family=\"Times,serif\" font-size=\"14.00\" text-anchor=\"middle\" x=\"87.9224\" y=\"-18.3\">SimpleRNN_1: SimpleRNN</text>\n",
       "<polyline fill=\"none\" points=\"175.8447,-.5 175.8447,-44.5 \" stroke=\"#000000\"/>\n",
       "<text fill=\"#000000\" font-family=\"Times,serif\" font-size=\"14.00\" text-anchor=\"middle\" x=\"203.6792\" y=\"-29.3\">input:</text>\n",
       "<polyline fill=\"none\" points=\"175.8447,-22.5 231.5137,-22.5 \" stroke=\"#000000\"/>\n",
       "<text fill=\"#000000\" font-family=\"Times,serif\" font-size=\"14.00\" text-anchor=\"middle\" x=\"203.6792\" y=\"-7.3\">output:</text>\n",
       "<polyline fill=\"none\" points=\"231.5137,-.5 231.5137,-44.5 \" stroke=\"#000000\"/>\n",
       "<text fill=\"#000000\" font-family=\"Times,serif\" font-size=\"14.00\" text-anchor=\"middle\" x=\"307.8379\" y=\"-29.3\">(None, 5, 15)</text>\n",
       "<polyline fill=\"none\" points=\"231.5137,-22.5 385.1348,-22.5 \" stroke=\"#000000\"/>\n",
       "<text fill=\"#000000\" font-family=\"Times,serif\" font-size=\"14.00\" text-anchor=\"middle\" x=\"308.3242\" y=\"-7.3\">[(None, 10), (None, 10)]</text>\n",
       "</g>\n",
       "<!-- 140387334037688&#45;&gt;140387468091064 -->\n",
       "<g class=\"edge\" id=\"edge1\">\n",
       "<title>140387334037688-&gt;140387468091064</title>\n",
       "<path d=\"M192.5674,-81.3664C192.5674,-73.1516 192.5674,-63.6579 192.5674,-54.7252\" fill=\"none\" stroke=\"#000000\"/>\n",
       "<polygon fill=\"#000000\" points=\"196.0675,-54.6068 192.5674,-44.6068 189.0675,-54.6069 196.0675,-54.6068\" stroke=\"#000000\"/>\n",
       "</g>\n",
       "</g>\n",
       "</svg>"
      ],
      "text/plain": [
       "<IPython.core.display.SVG object>"
      ]
     },
     "execution_count": 10,
     "metadata": {},
     "output_type": "execute_result"
    }
   ],
   "source": [
    "SVG(model_to_dot(model, show_shapes=True).create(prog='dot', format='svg'))"
   ]
  }
 ],
 "metadata": {
  "kernelspec": {
   "display_name": "Python 3",
   "language": "python",
   "name": "python3"
  },
  "language_info": {
   "codemirror_mode": {
    "name": "ipython",
    "version": 3
   },
   "file_extension": ".py",
   "mimetype": "text/x-python",
   "name": "python",
   "nbconvert_exporter": "python",
   "pygments_lexer": "ipython3",
   "version": "3.7.2"
  }
 },
 "nbformat": 4,
 "nbformat_minor": 2
}
